{
 "cells": [
  {
   "cell_type": "code",
   "execution_count": 4,
   "id": "cb18848d",
   "metadata": {},
   "outputs": [
    {
     "name": "stdout",
     "output_type": "stream",
     "text": [
      "TensorFlow version: 2.8.0\n"
     ]
    }
   ],
   "source": [
    "import tensorflow as tf\n",
    "print(\"TensorFlow version:\", tf.__version__)"
   ]
  },
  {
   "cell_type": "code",
   "execution_count": 5,
   "id": "575eaec2",
   "metadata": {},
   "outputs": [],
   "source": [
    "import numpy as np\n",
    "import pandas as pd\n",
    "import tensorflow as tf\n",
    "from tensorflow.keras import layers\n",
    "from matplotlib import pyplot as plt"
   ]
  },
  {
   "cell_type": "code",
   "execution_count": 6,
   "id": "8d57c032",
   "metadata": {},
   "outputs": [],
   "source": [
    "airport = \"RCTP\"\n",
    "\n",
    "train_df = pd.read_csv(airport + \"/\" + airport + \"_train.csv\")\n",
    "test_df = pd.read_csv(airport + \"/\" + airport + \"_test.csv\")\n",
    "train_df = train_df.reindex(np.random.permutation(train_df.index)) # shuffle the training set"
   ]
  },
  {
   "cell_type": "code",
   "execution_count": 10,
   "id": "3c99aa19",
   "metadata": {},
   "outputs": [
    {
     "name": "stdout",
     "output_type": "stream",
     "text": [
      "       windSpdKts  gustKts  windVrbDeg  visibilityMtrs   qnh  ws\n",
      "22027          11        0           0            9999  1020   0\n",
      "19032          16        0           0            9999  1018   0\n",
      "2864           15        0           0            9999  1020   0\n",
      "36896           9        0           0            9999  1002   0\n",
      "21382           7        0           0            9999  1025   0\n",
      "...           ...      ...         ...             ...   ...  ..\n",
      "36444           3        0         130            9999  1004   0\n",
      "1741           14        0           0            9999  1021   0\n",
      "9598           14        0          70            9999  1022   0\n",
      "34197          12        0           0            9999  1020   0\n",
      "9833           10        0           0            1200  1014   0\n",
      "\n",
      "[41070 rows x 6 columns]\n"
     ]
    }
   ],
   "source": [
    "print(train_df)"
   ]
  },
  {
   "cell_type": "code",
   "execution_count": 11,
   "id": "2e07273b",
   "metadata": {},
   "outputs": [
    {
     "name": "stdout",
     "output_type": "stream",
     "text": [
      "       windSpdKts  gustKts  windVrbDeg  visibilityMtrs  qnh  ws\n",
      "22027        0.22      0.0         0.0          0.9999  0.7   0\n",
      "19032        0.32      0.0         0.0          0.9999  0.5   0\n",
      "2864         0.30      0.0         0.0          0.9999  0.7   0\n",
      "36896        0.18      0.0         0.0          0.9999 -1.1   0\n",
      "21382        0.14      0.0         0.0          0.9999  1.2   0\n",
      "...           ...      ...         ...             ...  ...  ..\n",
      "36444        0.06      0.0         1.3          0.9999 -0.9   0\n",
      "1741         0.28      0.0         0.0          0.9999  0.8   0\n",
      "9598         0.28      0.0         0.7          0.9999  0.9   0\n",
      "34197        0.24      0.0         0.0          0.9999  0.7   0\n",
      "9833         0.20      0.0         0.0          0.1200  0.1   0\n",
      "\n",
      "[41070 rows x 6 columns]\n",
      "       windSpdKts  gustKts  windVrbDeg  visibilityMtrs  qnh  ws\n",
      "0            0.14      0.0         0.0          0.9999  0.8   0\n",
      "1            0.06      0.0         0.0          0.9999  0.7   0\n",
      "2            0.08      0.0         0.7          0.9999  0.7   0\n",
      "3            0.06      0.0         0.0          0.9999  0.8   0\n",
      "4            0.04      0.0         0.0          0.9999  0.8   0\n",
      "...           ...      ...         ...             ...  ...  ..\n",
      "10109        0.06      0.0         0.7          0.9999  0.0   0\n",
      "10110        0.12      0.0         0.6          0.9999 -0.1   0\n",
      "10111        0.06      0.0         0.0          0.9999  0.0   0\n",
      "10112        0.06      0.0         0.0          0.5000 -0.1   0\n",
      "10113        0.18      0.0         0.0          0.4500  0.1   0\n",
      "\n",
      "[10114 rows x 6 columns]\n"
     ]
    }
   ],
   "source": [
    "train_df_norm = train_df.copy()\n",
    "test_df_norm = test_df.copy()\n",
    "\n",
    "# Scale down wind speed\n",
    "train_df_norm[\"windSpdKts\"] /= 50\n",
    "test_df_norm[\"windSpdKts\"] /= 50\n",
    "\n",
    "# Scale down wind gust speed\n",
    "train_df_norm[\"gustKts\"] /= 50\n",
    "test_df_norm[\"gustKts\"] /= 50\n",
    "\n",
    "# Scale down wind variability\n",
    "train_df_norm[\"windVrbDeg\"] /= 100\n",
    "test_df_norm[\"windVrbDeg\"] /= 100\n",
    "\n",
    "# Scale down visibility\n",
    "train_df_norm[\"visibilityMtrs\"] /= 10000\n",
    "test_df_norm[\"visibilityMtrs\"] /= 10000\n",
    "\n",
    "# Normalise, scale down QNH\n",
    "train_df_norm[\"qnh\"] -= 1013\n",
    "train_df_norm[\"qnh\"] /= 10\n",
    "test_df_norm[\"qnh\"] -= 1013\n",
    "test_df_norm[\"qnh\"] /= 10\n",
    "\n",
    "print(train_df_norm)\n",
    "print(test_df_norm)"
   ]
  },
  {
   "cell_type": "code",
   "execution_count": 13,
   "id": "29814cf4",
   "metadata": {},
   "outputs": [
    {
     "name": "stdout",
     "output_type": "stream",
     "text": [
      "BucketizedColumn(source_column=NumericColumn(key='visibilityMtrs', shape=(1,), default_value=None, dtype=tf.float32, normalizer_fn=None), boundaries=(-1, 999, 1999, 2999, 3999, 4999, 5999, 6999, 7999, 8999, 9999))\n"
     ]
    }
   ],
   "source": [
    "feature_columns = []\n",
    "\n",
    "windSpdKts = tf.feature_column.numeric_column(\"windSpdKts\")\n",
    "feature_columns.append(windSpdKts)\n",
    "\n",
    "gustKts = tf.feature_column.numeric_column(\"gustKts\")\n",
    "feature_columns.append(gustKts)\n",
    "\n",
    "windVrbDeg = tf.feature_column.numeric_column(\"windVrbDeg\")\n",
    "feature_columns.append(windVrbDeg)\n",
    "\n",
    "vis_boundaries = list(np.arange(-1, 10000, 1000))\n",
    "visibilityMtrs = tf.feature_column.numeric_column(\"visibilityMtrs\")\n",
    "visibilityMtrsBin = tf.feature_column.bucketized_column(visibilityMtrs, vis_boundaries)\n",
    "feature_columns.append(visibilityMtrsBin)\n",
    "# print(visibilityMtrsBin)"
   ]
  },
  {
   "cell_type": "code",
   "execution_count": 14,
   "id": "2ed7bc1e",
   "metadata": {},
   "outputs": [
    {
     "data": {
      "text/plain": [
       "<tf.Tensor: shape=(41070, 15), dtype=float32, numpy=\n",
       "array([[0.  , 0.  , 1.  , ..., 0.  , 0.22, 0.  ],\n",
       "       [0.  , 0.  , 1.  , ..., 0.  , 0.32, 0.  ],\n",
       "       [0.  , 0.  , 1.  , ..., 0.  , 0.3 , 0.  ],\n",
       "       ...,\n",
       "       [0.  , 0.  , 1.  , ..., 0.  , 0.28, 0.7 ],\n",
       "       [0.  , 0.  , 1.  , ..., 0.  , 0.24, 0.  ],\n",
       "       [0.  , 0.  , 1.  , ..., 0.  , 0.2 , 0.  ]], dtype=float32)>"
      ]
     },
     "execution_count": 14,
     "metadata": {},
     "output_type": "execute_result"
    }
   ],
   "source": [
    "feature_layer = layers.DenseFeatures(feature_columns)\n",
    "\n",
    "print(feature_layer(dict(train_df_norm)))"
   ]
  },
  {
   "cell_type": "code",
   "execution_count": null,
   "id": "a579562d",
   "metadata": {},
   "outputs": [],
   "source": []
  }
 ],
 "metadata": {
  "kernelspec": {
   "display_name": "Python 3 (ipykernel)",
   "language": "python",
   "name": "python3"
  },
  "language_info": {
   "codemirror_mode": {
    "name": "ipython",
    "version": 3
   },
   "file_extension": ".py",
   "mimetype": "text/x-python",
   "name": "python",
   "nbconvert_exporter": "python",
   "pygments_lexer": "ipython3",
   "version": "3.10.0"
  }
 },
 "nbformat": 4,
 "nbformat_minor": 5
}
