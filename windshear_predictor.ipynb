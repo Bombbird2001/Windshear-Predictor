{
 "cells": [
  {
   "cell_type": "code",
   "execution_count": null,
   "id": "ce1ffff7",
   "metadata": {},
   "outputs": [],
   "source": [
    "# Get METAR data in bulk\n",
    "%run auto_request_data.py"
   ]
  },
  {
   "cell_type": "code",
   "execution_count": 172,
   "id": "3341f68b",
   "metadata": {},
   "outputs": [
    {
     "name": "stdout",
     "output_type": "stream",
     "text": [
      "RCTP\n"
     ]
    }
   ],
   "source": [
    "# Parse relevant METAR data into CSV\n",
    "%run parse_to_csv.py RCTP"
   ]
  },
  {
   "cell_type": "code",
   "execution_count": 5,
   "id": "cb18848d",
   "metadata": {},
   "outputs": [
    {
     "name": "stdout",
     "output_type": "stream",
     "text": [
      "TensorFlow version: 2.8.0\n"
     ]
    }
   ],
   "source": [
    "import tensorflow as tf\n",
    "print(\"TensorFlow version:\", tf.__version__)"
   ]
  },
  {
   "cell_type": "code",
   "execution_count": 6,
   "id": "575eaec2",
   "metadata": {},
   "outputs": [],
   "source": [
    "import sys\n",
    "import numpy as np\n",
    "import pandas as pd\n",
    "import tensorflow as tf\n",
    "from tensorflow.keras import layers\n",
    "from matplotlib import pyplot as plt\n",
    "\n",
    "pd.options.display.max_rows = 10\n",
    "pd.options.display.float_format = \"{:.2f}\".format"
   ]
  },
  {
   "cell_type": "code",
   "execution_count": 7,
   "id": "8d57c032",
   "metadata": {},
   "outputs": [
    {
     "name": "stdout",
     "output_type": "stream",
     "text": [
      "       windSpdKts  gustKts  windVrbDeg  intensity  rain  visibilityMtrs   qnh  \\\n",
      "15354          20        0           0       0.00     0            9999  1002   \n",
      "7554            5        0          60       0.00     0            9999  1010   \n",
      "11190          19        0           0       0.00     0            9999  1024   \n",
      "40023           3        0         170       0.00     0            9999  1021   \n",
      "15560           3        0           0       0.00     0            9999  1009   \n",
      "...           ...      ...         ...        ...   ...             ...   ...   \n",
      "21085          14        0           0       0.00     0            4000  1019   \n",
      "24231          23        0           0       0.00     0            9999  1015   \n",
      "19051          17        0           0       0.30     1            9999  1015   \n",
      "27848          22        0           0       0.00     0            9999  1001   \n",
      "4527            6        0           0       0.00     0            9999  1019   \n",
      "\n",
      "       ws  \n",
      "15354   0  \n",
      "7554    0  \n",
      "11190   0  \n",
      "40023   0  \n",
      "15560   0  \n",
      "...    ..  \n",
      "21085   0  \n",
      "24231   1  \n",
      "19051   0  \n",
      "27848   1  \n",
      "4527    0  \n",
      "\n",
      "[40923 rows x 8 columns]\n"
     ]
    }
   ],
   "source": [
    "airport = \"RCTP\"\n",
    "\n",
    "train_df = pd.read_csv(airport + \"/\" + airport + \"_train.csv\")\n",
    "test_df = pd.read_csv(airport + \"/\" + airport + \"_test.csv\")\n",
    "train_df = train_df.reindex(np.random.permutation(train_df.index)) # shuffle the training set\n",
    "\n",
    "print(train_df)"
   ]
  },
  {
   "cell_type": "code",
   "execution_count": 8,
   "id": "2e07273b",
   "metadata": {},
   "outputs": [
    {
     "name": "stdout",
     "output_type": "stream",
     "text": [
      "       windSpdKts  gustKts  windVrbDeg  intensity  rain  visibilityMtrs   qnh  \\\n",
      "15354        0.40     0.00        0.00       0.00     0            9999 -1.10   \n",
      "7554         0.10     0.00        0.60       0.00     0            9999 -0.30   \n",
      "11190        0.38     0.00        0.00       0.00     0            9999  1.10   \n",
      "40023        0.06     0.00        1.70       0.00     0            9999  0.80   \n",
      "15560        0.06     0.00        0.00       0.00     0            9999 -0.40   \n",
      "...           ...      ...         ...        ...   ...             ...   ...   \n",
      "21085        0.28     0.00        0.00       0.00     0            4000  0.60   \n",
      "24231        0.46     0.00        0.00       0.00     0            9999  0.20   \n",
      "19051        0.34     0.00        0.00       0.30     1            9999  0.20   \n",
      "27848        0.44     0.00        0.00       0.00     0            9999 -1.20   \n",
      "4527         0.12     0.00        0.00       0.00     0            9999  0.60   \n",
      "\n",
      "       ws  \n",
      "15354   0  \n",
      "7554    0  \n",
      "11190   0  \n",
      "40023   0  \n",
      "15560   0  \n",
      "...    ..  \n",
      "21085   0  \n",
      "24231   1  \n",
      "19051   0  \n",
      "27848   1  \n",
      "4527    0  \n",
      "\n",
      "[40923 rows x 8 columns]\n",
      "       windSpdKts  gustKts  windVrbDeg  intensity  rain  visibilityMtrs   qnh  \\\n",
      "0            0.32     0.00        0.00       0.00     0            9999  0.80   \n",
      "1            0.14     0.00        0.00       0.00     0            9999  0.80   \n",
      "2            0.06     0.00        0.00       0.00     0            9999  0.70   \n",
      "3            0.06     0.00        0.00       0.00     0            7000  0.70   \n",
      "4            0.08     0.00        0.60       0.00     0            9999  0.80   \n",
      "...           ...      ...         ...        ...   ...             ...   ...   \n",
      "10256        0.32     0.00        0.00       0.00     0            9999 -0.30   \n",
      "10257        0.26     0.00        0.00       0.00     0            9999  0.00   \n",
      "10258        0.10     0.00        0.00       0.00     0            9999  0.10   \n",
      "10259        0.08     0.00        0.00       0.00     0            9999  0.00   \n",
      "10260        0.06     0.00        0.00       0.00     0            9999  0.00   \n",
      "\n",
      "       ws  \n",
      "0       0  \n",
      "1       0  \n",
      "2       0  \n",
      "3       0  \n",
      "4       0  \n",
      "...    ..  \n",
      "10256   1  \n",
      "10257   0  \n",
      "10258   0  \n",
      "10259   0  \n",
      "10260   0  \n",
      "\n",
      "[10261 rows x 8 columns]\n"
     ]
    }
   ],
   "source": [
    "train_df_norm = train_df.copy()\n",
    "test_df_norm = test_df.copy()\n",
    "\n",
    "# Scale down wind speed\n",
    "train_df_norm[\"windSpdKts\"] /= 50\n",
    "test_df_norm[\"windSpdKts\"] /= 50\n",
    "\n",
    "# Scale down wind gust speed\n",
    "train_df_norm[\"gustKts\"] /= 50\n",
    "test_df_norm[\"gustKts\"] /= 50\n",
    "\n",
    "# Scale down wind variability\n",
    "train_df_norm[\"windVrbDeg\"] /= 100\n",
    "test_df_norm[\"windVrbDeg\"] /= 100\n",
    "\n",
    "# Scale down visibility\n",
    "# train_df_norm[\"visibilityMtrs\"] /= 10000\n",
    "# test_df_norm[\"visibilityMtrs\"] /= 10000\n",
    "\n",
    "# Normalise, scale down QNH\n",
    "train_df_norm[\"qnh\"] -= 1013\n",
    "train_df_norm[\"qnh\"] /= 10\n",
    "test_df_norm[\"qnh\"] -= 1013\n",
    "test_df_norm[\"qnh\"] /= 10\n",
    "\n",
    "print(train_df_norm)\n",
    "print(test_df_norm)"
   ]
  },
  {
   "cell_type": "code",
   "execution_count": 9,
   "id": "29814cf4",
   "metadata": {},
   "outputs": [],
   "source": [
    "feature_columns = []\n",
    "\n",
    "windSpdKts = tf.feature_column.numeric_column(\"windSpdKts\")\n",
    "feature_columns.append(windSpdKts)\n",
    "\n",
    "gustKts = tf.feature_column.numeric_column(\"gustKts\")\n",
    "feature_columns.append(gustKts)\n",
    "\n",
    "windVrbDeg = tf.feature_column.numeric_column(\"windVrbDeg\")\n",
    "feature_columns.append(windVrbDeg)\n",
    "\n",
    "intensity = tf.feature_column.numeric_column(\"intensity\")\n",
    "feature_columns.append(intensity)\n",
    "\n",
    "rain = tf.feature_column.numeric_column(\"rain\")\n",
    "feature_columns.append(rain)\n",
    "\n",
    "vis_boundaries = list(np.arange(-1, 10000, 1000))\n",
    "visibilityMtrs = tf.feature_column.numeric_column(\"visibilityMtrs\")\n",
    "visibilityMtrsBin = tf.feature_column.bucketized_column(visibilityMtrs, vis_boundaries)\n",
    "feature_columns.append(visibilityMtrsBin)\n",
    "# print(visibilityMtrsBin)\n",
    "\n",
    "qnh = tf.feature_column.numeric_column(\"qnh\")\n",
    "feature_columns.append(qnh)\n",
    "\n",
    "# Create a feature cross of windSpdKts and windVrbDeg\n",
    "spd_x_vrb = tf.feature_column.crossed_column([\"windSpdKts\", \"windVrbDeg\"], hash_bucket_size=1000)\n",
    "crossed_spd_vrb = tf.feature_column.indicator_column(spd_x_vrb)\n",
    "feature_columns.append(crossed_spd_vrb)\n",
    "\n",
    "# Create a feature cross of intensity and rain\n",
    "int_x_rain = tf.feature_column.crossed_column([\"intensity\", \"rain\"], hash_bucket_size=50)\n",
    "crossed_int_rain = tf.feature_column.indicator_column(int_x_rain)\n",
    "feature_columns.append(crossed_int_rain)\n",
    "\n",
    "feature_layer = layers.DenseFeatures(feature_columns)\n",
    "\n",
    "# np.set_printoptions(threshold=False)\n",
    "# print(train_df_norm[train_df_norm.visibilityMtrs == train_df_norm.visibilityMtrs.min()])\n",
    "# print(feature_layer(dict(train_df_norm)))"
   ]
  },
  {
   "cell_type": "code",
   "execution_count": 67,
   "id": "a579562d",
   "metadata": {},
   "outputs": [
    {
     "name": "stdout",
     "output_type": "stream",
     "text": [
      "Defined the 2 models and train_model functions.\n"
     ]
    }
   ],
   "source": [
    "def neural_model(my_learning_rate, feature_layer, my_metrics, initial_bias=None):\n",
    "    \"\"\"Create and compile a simple classification model.\"\"\"\n",
    "    model = tf.keras.models.Sequential()\n",
    "    \n",
    "    if initial_bias is not None:\n",
    "        initial_bias = tf.keras.initializers.Constant(initial_bias)\n",
    "    \n",
    "    model.add(feature_layer)\n",
    "\n",
    "    # Funnel the regression value through a ReLU function.\n",
    "    model.add(tf.keras.layers.Dense(units=40, activation='relu', name=\"hidden1\",\n",
    "                                    kernel_regularizer=tf.keras.regularizers.l2(l=0.001)))\n",
    "    \n",
    "    # model.add(tf.keras.layers.Dropout(0.2))\n",
    "    \n",
    "    model.add(tf.keras.layers.Dense(units=20, activation='relu', name=\"hidden2\",\n",
    "                                    kernel_regularizer=tf.keras.regularizers.l2(l=0.001)))\n",
    "    \n",
    "    # model.add(tf.keras.layers.Dropout(0.2))\n",
    "    \n",
    "    # Define the output layer.\n",
    "    model.add(tf.keras.layers.Dense(units=1, name='Output', activation='sigmoid', bias_initializer=initial_bias))\n",
    "\n",
    "    # Call the compile method to construct the layers into a model that\n",
    "    # TensorFlow can execute.  Notice that we're using a different loss\n",
    "    # function for classification than for regression.    \n",
    "    model.compile(optimizer=tf.keras.optimizers.RMSprop(learning_rate=my_learning_rate),                                                   \n",
    "                    loss=tf.keras.losses.BinaryCrossentropy(),\n",
    "                    metrics=my_metrics)\n",
    "\n",
    "    return model\n",
    "\n",
    "\n",
    "def linear_model(my_learning_rate, feature_layer, my_metrics, initial_bias=None):\n",
    "    \"\"\"Create and compile a simple classification model.\"\"\"\n",
    "    model = tf.keras.models.Sequential()\n",
    "    \n",
    "    if initial_bias is not None:\n",
    "        initial_bias = tf.keras.initializers.Constant(initial_bias)\n",
    "    \n",
    "    model.add(feature_layer)\n",
    "\n",
    "    # Funnel the regression value through a sigmoid function.\n",
    "    model.add(tf.keras.layers.Dense(units=1, input_shape=(20,), activation='sigmoid', bias_initializer=initial_bias))\n",
    "\n",
    "    # Call the compile method to construct the layers into a model that\n",
    "    # TensorFlow can execute.  Notice that we're using a different loss\n",
    "    # function for classification than for regression.    \n",
    "    model.compile(optimizer=tf.keras.optimizers.RMSprop(learning_rate=my_learning_rate),                                                   \n",
    "                    loss=tf.keras.losses.BinaryCrossentropy(),\n",
    "                    metrics=my_metrics)\n",
    "\n",
    "    return model   \n",
    "\n",
    "\n",
    "def train_model(model, dataset, epochs, label_name,\n",
    "                batch_size=None, shuffle=True, validation_split=0.2):\n",
    "    \"\"\"Feed a dataset into the model in order to train it.\"\"\"\n",
    "\n",
    "    # The x parameter of tf.keras.Model.fit can be a list of arrays, where\n",
    "    # each array contains the data for one feature.  Here, we're passing\n",
    "    # every column in the dataset. Note that the feature_layer will filter\n",
    "    # away most of those columns, leaving only the desired columns and their\n",
    "    # representations as features.\n",
    "    features = {name:np.array(value) for name, value in dataset.items()}\n",
    "    label = np.array(features.pop(label_name)) \n",
    "    history = model.fit(x=features, y=label, batch_size=batch_size,\n",
    "                          epochs=epochs, shuffle=shuffle, validation_split=validation_split)\n",
    "\n",
    "    # The list of epochs is stored separately from the rest of history.\n",
    "    epochs = history.epoch\n",
    "\n",
    "    # Isolate the classification metric for each epoch.\n",
    "    hist = pd.DataFrame(history.history)\n",
    "\n",
    "    return epochs, hist\n",
    "\n",
    "print(\"Defined the 2 models and train_model functions.\")"
   ]
  },
  {
   "cell_type": "code",
   "execution_count": 68,
   "id": "b2bf66bb",
   "metadata": {},
   "outputs": [
    {
     "name": "stdout",
     "output_type": "stream",
     "text": [
      "Defined the plot_curve function.\n"
     ]
    }
   ],
   "source": [
    "def plot_curve(epochs, hist, list_of_metrics):\n",
    "    \"\"\"Plot a curve of one or more classification metrics vs. epoch.\"\"\"   \n",
    "\n",
    "    plt.figure()\n",
    "    plt.xlabel(\"Epoch\")\n",
    "    plt.ylabel(\"Value\")\n",
    "\n",
    "    for m in list_of_metrics:\n",
    "        x = hist[m]\n",
    "        plt.plot(epochs[1:], x[1:], label=m)\n",
    "\n",
    "    plt.legend()\n",
    "\n",
    "print(\"Defined the plot_curve function.\")"
   ]
  },
  {
   "cell_type": "code",
   "execution_count": 69,
   "id": "4f5f14c0",
   "metadata": {},
   "outputs": [],
   "source": [
    "def get_initial_bias(train_set):\n",
    "    pos_count = len(train_set[train_set.ws == 1])\n",
    "    neg_count = train_set.size - pos_count\n",
    "    return np.log([pos_count / neg_count])"
   ]
  },
  {
   "cell_type": "code",
   "execution_count": 70,
   "id": "62a9618b",
   "metadata": {},
   "outputs": [
    {
     "name": "stdout",
     "output_type": "stream",
     "text": [
      "Epoch 1/20\n",
      "WARNING:tensorflow:Layers in a Sequential model should only have a single input tensor. Received: inputs={'windSpdKts': <tf.Tensor 'IteratorGetNext:5' shape=(None,) dtype=float32>, 'gustKts': <tf.Tensor 'IteratorGetNext:0' shape=(None,) dtype=float32>, 'windVrbDeg': <tf.Tensor 'IteratorGetNext:6' shape=(None,) dtype=float32>, 'intensity': <tf.Tensor 'IteratorGetNext:1' shape=(None,) dtype=float32>, 'rain': <tf.Tensor 'IteratorGetNext:3' shape=(None,) dtype=int64>, 'visibilityMtrs': <tf.Tensor 'IteratorGetNext:4' shape=(None,) dtype=int64>, 'qnh': <tf.Tensor 'IteratorGetNext:2' shape=(None,) dtype=float32>}. Consider rewriting this model with the Functional API.\n",
      "WARNING:tensorflow:Layers in a Sequential model should only have a single input tensor. Received: inputs={'windSpdKts': <tf.Tensor 'IteratorGetNext:5' shape=(None,) dtype=float32>, 'gustKts': <tf.Tensor 'IteratorGetNext:0' shape=(None,) dtype=float32>, 'windVrbDeg': <tf.Tensor 'IteratorGetNext:6' shape=(None,) dtype=float32>, 'intensity': <tf.Tensor 'IteratorGetNext:1' shape=(None,) dtype=float32>, 'rain': <tf.Tensor 'IteratorGetNext:3' shape=(None,) dtype=int64>, 'visibilityMtrs': <tf.Tensor 'IteratorGetNext:4' shape=(None,) dtype=int64>, 'qnh': <tf.Tensor 'IteratorGetNext:2' shape=(None,) dtype=float32>}. Consider rewriting this model with the Functional API.\n",
      "282/287 [============================>.] - ETA: 0s - loss: 0.4073 - accuracy: 0.9010 - precision: 0.0000e+00 - recall: 0.0000e+00 - roc-auc: 0.5295 - pr-auc: 0.1394WARNING:tensorflow:Layers in a Sequential model should only have a single input tensor. Received: inputs={'windSpdKts': <tf.Tensor 'IteratorGetNext:5' shape=(None,) dtype=float32>, 'gustKts': <tf.Tensor 'IteratorGetNext:0' shape=(None,) dtype=float32>, 'windVrbDeg': <tf.Tensor 'IteratorGetNext:6' shape=(None,) dtype=float32>, 'intensity': <tf.Tensor 'IteratorGetNext:1' shape=(None,) dtype=float32>, 'rain': <tf.Tensor 'IteratorGetNext:3' shape=(None,) dtype=int64>, 'visibilityMtrs': <tf.Tensor 'IteratorGetNext:4' shape=(None,) dtype=int64>, 'qnh': <tf.Tensor 'IteratorGetNext:2' shape=(None,) dtype=float32>}. Consider rewriting this model with the Functional API.\n",
      "287/287 [==============================] - 2s 4ms/step - loss: 0.4060 - accuracy: 0.9009 - precision: 0.0000e+00 - recall: 0.0000e+00 - roc-auc: 0.5309 - pr-auc: 0.1409 - val_loss: 0.3015 - val_accuracy: 0.9040 - val_precision: 0.0000e+00 - val_recall: 0.0000e+00 - val_roc-auc: 0.8008 - val_pr-auc: 0.3124\n",
      "Epoch 2/20\n",
      "287/287 [==============================] - 1s 2ms/step - loss: 0.2878 - accuracy: 0.9032 - precision: 0.8056 - recall: 0.0306 - roc-auc: 0.8303 - pr-auc: 0.3675 - val_loss: 0.2657 - val_accuracy: 0.9101 - val_precision: 0.7372 - val_recall: 0.0976 - val_roc-auc: 0.8576 - val_pr-auc: 0.4323\n",
      "Epoch 3/20\n",
      "287/287 [==============================] - 1s 2ms/step - loss: 0.2595 - accuracy: 0.9107 - precision: 0.7178 - recall: 0.1631 - roc-auc: 0.8706 - pr-auc: 0.4684 - val_loss: 0.2468 - val_accuracy: 0.9137 - val_precision: 0.6578 - val_recall: 0.2105 - val_roc-auc: 0.8784 - val_pr-auc: 0.4779\n",
      "Epoch 4/20\n",
      "287/287 [==============================] - 1s 2ms/step - loss: 0.2425 - accuracy: 0.9110 - precision: 0.6492 - recall: 0.2223 - roc-auc: 0.8920 - pr-auc: 0.5202 - val_loss: 0.2339 - val_accuracy: 0.9150 - val_precision: 0.6559 - val_recall: 0.2411 - val_roc-auc: 0.8953 - val_pr-auc: 0.5195\n",
      "Epoch 5/20\n",
      "287/287 [==============================] - 1s 2ms/step - loss: 0.2310 - accuracy: 0.9134 - precision: 0.6581 - recall: 0.2624 - roc-auc: 0.9033 - pr-auc: 0.5504 - val_loss: 0.2277 - val_accuracy: 0.9168 - val_precision: 0.6232 - val_recall: 0.3370 - val_roc-auc: 0.9006 - val_pr-auc: 0.5310\n",
      "Epoch 6/20\n",
      "287/287 [==============================] - 0s 2ms/step - loss: 0.2239 - accuracy: 0.9161 - precision: 0.6615 - recall: 0.3138 - roc-auc: 0.9090 - pr-auc: 0.5650 - val_loss: 0.2219 - val_accuracy: 0.9189 - val_precision: 0.6440 - val_recall: 0.3455 - val_roc-auc: 0.9039 - val_pr-auc: 0.5464\n",
      "Epoch 7/20\n",
      "287/287 [==============================] - 1s 2ms/step - loss: 0.2196 - accuracy: 0.9179 - precision: 0.6674 - recall: 0.3427 - roc-auc: 0.9113 - pr-auc: 0.5774 - val_loss: 0.2197 - val_accuracy: 0.9197 - val_precision: 0.6727 - val_recall: 0.3175 - val_roc-auc: 0.9056 - val_pr-auc: 0.5556\n",
      "Epoch 8/20\n",
      "287/287 [==============================] - 1s 2ms/step - loss: 0.2176 - accuracy: 0.9188 - precision: 0.6647 - recall: 0.3646 - roc-auc: 0.9119 - pr-auc: 0.5811 - val_loss: 0.2178 - val_accuracy: 0.9203 - val_precision: 0.6534 - val_recall: 0.3616 - val_roc-auc: 0.9063 - val_pr-auc: 0.5590\n",
      "Epoch 9/20\n",
      "287/287 [==============================] - 1s 2ms/step - loss: 0.2160 - accuracy: 0.9195 - precision: 0.6642 - recall: 0.3790 - roc-auc: 0.9132 - pr-auc: 0.5867 - val_loss: 0.2168 - val_accuracy: 0.9189 - val_precision: 0.6253 - val_recall: 0.3854 - val_roc-auc: 0.9066 - val_pr-auc: 0.5602\n",
      "Epoch 10/20\n",
      "287/287 [==============================] - 1s 2ms/step - loss: 0.2147 - accuracy: 0.9194 - precision: 0.6589 - recall: 0.3871 - roc-auc: 0.9133 - pr-auc: 0.5894 - val_loss: 0.2163 - val_accuracy: 0.9202 - val_precision: 0.6566 - val_recall: 0.3523 - val_roc-auc: 0.9056 - val_pr-auc: 0.5618\n",
      "Epoch 11/20\n",
      "287/287 [==============================] - 1s 2ms/step - loss: 0.2144 - accuracy: 0.9205 - precision: 0.6651 - recall: 0.3987 - roc-auc: 0.9129 - pr-auc: 0.5878 - val_loss: 0.2165 - val_accuracy: 0.9190 - val_precision: 0.6101 - val_recall: 0.4304 - val_roc-auc: 0.9064 - val_pr-auc: 0.5625\n",
      "Epoch 12/20\n",
      "287/287 [==============================] - 0s 2ms/step - loss: 0.2136 - accuracy: 0.9198 - precision: 0.6579 - recall: 0.3977 - roc-auc: 0.9129 - pr-auc: 0.5893 - val_loss: 0.2254 - val_accuracy: 0.9125 - val_precision: 0.5459 - val_recall: 0.5255 - val_roc-auc: 0.9073 - val_pr-auc: 0.5603\n",
      "Epoch 13/20\n",
      "287/287 [==============================] - 1s 2ms/step - loss: 0.2131 - accuracy: 0.9195 - precision: 0.6514 - recall: 0.4047 - roc-auc: 0.9133 - pr-auc: 0.5892 - val_loss: 0.2150 - val_accuracy: 0.9175 - val_precision: 0.5963 - val_recall: 0.4338 - val_roc-auc: 0.9068 - val_pr-auc: 0.5640\n",
      "Epoch 14/20\n",
      "287/287 [==============================] - 0s 2ms/step - loss: 0.2121 - accuracy: 0.9202 - precision: 0.6586 - recall: 0.4051 - roc-auc: 0.9137 - pr-auc: 0.5931 - val_loss: 0.2142 - val_accuracy: 0.9176 - val_precision: 0.5986 - val_recall: 0.4278 - val_roc-auc: 0.9068 - val_pr-auc: 0.5653\n",
      "Epoch 15/20\n",
      "287/287 [==============================] - 1s 2ms/step - loss: 0.2118 - accuracy: 0.9201 - precision: 0.6562 - recall: 0.4068 - roc-auc: 0.9134 - pr-auc: 0.5932 - val_loss: 0.2164 - val_accuracy: 0.9167 - val_precision: 0.5810 - val_recall: 0.4720 - val_roc-auc: 0.9070 - val_pr-auc: 0.5656\n",
      "Epoch 16/20\n",
      "287/287 [==============================] - 1s 2ms/step - loss: 0.2115 - accuracy: 0.9198 - precision: 0.6524 - recall: 0.4079 - roc-auc: 0.9135 - pr-auc: 0.5917 - val_loss: 0.2128 - val_accuracy: 0.9195 - val_precision: 0.6240 - val_recall: 0.4058 - val_roc-auc: 0.9063 - val_pr-auc: 0.5682\n",
      "Epoch 17/20\n",
      "287/287 [==============================] - 1s 2ms/step - loss: 0.2109 - accuracy: 0.9198 - precision: 0.6538 - recall: 0.4065 - roc-auc: 0.9136 - pr-auc: 0.5940 - val_loss: 0.2123 - val_accuracy: 0.9212 - val_precision: 0.6409 - val_recall: 0.4075 - val_roc-auc: 0.9063 - val_pr-auc: 0.5695\n",
      "Epoch 18/20\n",
      "287/287 [==============================] - 1s 2ms/step - loss: 0.2107 - accuracy: 0.9202 - precision: 0.6556 - recall: 0.4111 - roc-auc: 0.9133 - pr-auc: 0.5952 - val_loss: 0.2129 - val_accuracy: 0.9214 - val_precision: 0.6631 - val_recall: 0.3676 - val_roc-auc: 0.9054 - val_pr-auc: 0.5686\n",
      "Epoch 19/20\n",
      "287/287 [==============================] - 0s 2ms/step - loss: 0.2102 - accuracy: 0.9204 - precision: 0.6575 - recall: 0.4118 - roc-auc: 0.9137 - pr-auc: 0.5952 - val_loss: 0.2155 - val_accuracy: 0.9159 - val_precision: 0.5734 - val_recall: 0.4839 - val_roc-auc: 0.9071 - val_pr-auc: 0.5673\n",
      "Epoch 20/20\n",
      "287/287 [==============================] - 1s 2ms/step - loss: 0.2098 - accuracy: 0.9199 - precision: 0.6518 - recall: 0.4114 - roc-auc: 0.9138 - pr-auc: 0.5958 - val_loss: 0.2174 - val_accuracy: 0.9138 - val_precision: 0.5557 - val_recall: 0.5085 - val_roc-auc: 0.9076 - val_pr-auc: 0.5671\n"
     ]
    },
    {
     "name": "stdout",
     "output_type": "stream",
     "text": [
      "103/103 [==============================] - 0s 1ms/step - loss: 0.2208 - accuracy: 0.9131 - precision: 0.5711 - recall: 0.5039 - roc-auc: 0.9099 - pr-auc: 0.5652\n",
      "[0.22082923352718353, 0.9130688905715942, 0.5711110830307007, 0.5039215683937073, 0.9098989963531494, 0.5651687383651733]\n"
     ]
    },
    {
     "data": {
      "image/png": "[encoded data removed]",
      "text/plain": [
       "<Figure size 432x288 with 1 Axes>"
      ]
     },
     "metadata": {
      "needs_background": "light"
     },
     "output_type": "display_data"
    },
    {
     "data": {
      "image/png": "[encoded data removed]",
      "text/plain": [
       "<Figure size 432x288 with 1 Axes>"
      ]
     },
     "metadata": {
      "needs_background": "light"
     },
     "output_type": "display_data"
    }
   ],
   "source": [
    "learning_rate = 0.0005\n",
    "epochs = 20\n",
    "batch_size = 100\n",
    "label_name = \"ws\"\n",
    "classification_threshold = 0.45\n",
    "validation_split = 0.3\n",
    "initial_bias = get_initial_bias(train_df_norm)\n",
    "\n",
    "# Establish the metrics the model will measure.\n",
    "METRICS = [\n",
    "    tf.keras.metrics.BinaryAccuracy(name='accuracy', threshold=classification_threshold),\n",
    "    tf.keras.metrics.Precision(thresholds=classification_threshold,name='precision'),\n",
    "    tf.keras.metrics.Recall(thresholds=classification_threshold,name='recall'),\n",
    "    tf.keras.metrics.AUC(num_thresholds=100, name='roc-auc'),\n",
    "    tf.keras.metrics.AUC(num_thresholds=100, name='pr-auc', curve='PR')\n",
    "]\n",
    "\n",
    "# Establish the model's topography.\n",
    "my_model = neural_model(learning_rate, feature_layer, METRICS, initial_bias=initial_bias)\n",
    "\n",
    "# Train the model on the training set.\n",
    "epochs, hist = train_model(my_model, train_df_norm, epochs, \n",
    "                           label_name, batch_size, validation_split=validation_split)\n",
    "\n",
    "# Plot a graph of the metric(s) vs. epochs.\n",
    "list_of_metrics_to_plot_1 = ['loss', 'val_loss']\n",
    "list_of_metrics_to_plot_2 = ['loss', 'accuracy', 'precision', 'recall', 'roc-auc', 'pr-auc']\n",
    "\n",
    "plot_curve(epochs, hist, list_of_metrics_to_plot_1)\n",
    "plot_curve(epochs, hist, list_of_metrics_to_plot_2)\n",
    "\n",
    "x_test = {name: np.array(value) for name, value in test_df_norm.items()}\n",
    "y_test = np.array(x_test.pop(label_name))\n",
    "\n",
    "results = my_model.evaluate(x_test, y_test, batch_size=batch_size)\n",
    "print(results)"
   ]
  }
 ],
 "metadata": {
  "kernelspec": {
   "display_name": "Python 3 (ipykernel)",
   "language": "python",
   "name": "python3"
  },
  "language_info": {
   "codemirror_mode": {
    "name": "ipython",
    "version": 3
   },
   "file_extension": ".py",
   "mimetype": "text/x-python",
   "name": "python",
   "nbconvert_exporter": "python",
   "pygments_lexer": "ipython3",
   "version": "3.10.0"
  }
 },
 "nbformat": 4,
 "nbformat_minor": 5
}
