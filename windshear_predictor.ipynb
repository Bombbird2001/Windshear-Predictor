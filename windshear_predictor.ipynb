{
 "cells": [
  {
   "cell_type": "code",
   "execution_count": null,
   "id": "ce1ffff7",
   "metadata": {},
   "outputs": [],
   "source": [
    "# Get METAR data in bulk\n",
    "%run auto_request_data.py"
   ]
  },
  {
   "cell_type": "code",
   "execution_count": 172,
   "id": "3341f68b",
   "metadata": {},
   "outputs": [
    {
     "name": "stdout",
     "output_type": "stream",
     "text": [
      "RCTP\n"
     ]
    }
   ],
   "source": [
    "# Parse relevant METAR data into CSV\n",
    "%run parse_to_csv.py RCTP"
   ]
  },
  {
   "cell_type": "code",
   "execution_count": 2,
   "id": "cb18848d",
   "metadata": {},
   "outputs": [
    {
     "name": "stdout",
     "output_type": "stream",
     "text": [
      "TensorFlow version: 2.8.0\n"
     ]
    }
   ],
   "source": [
    "import tensorflow as tf\n",
    "print(\"TensorFlow version:\", tf.__version__)"
   ]
  },
  {
   "cell_type": "code",
   "execution_count": 47,
   "id": "575eaec2",
   "metadata": {},
   "outputs": [],
   "source": [
    "import sys\n",
    "import numpy as np\n",
    "import pandas as pd\n",
    "import tensorflow as tf\n",
    "from tensorflow.keras import layers\n",
    "from matplotlib import pyplot as plt\n",
    "\n",
    "pd.options.display.max_rows = 10\n",
    "pd.options.display.float_format = \"{:.2f}\".format"
   ]
  },
  {
   "cell_type": "code",
   "execution_count": 174,
   "id": "8d57c032",
   "metadata": {},
   "outputs": [
    {
     "name": "stdout",
     "output_type": "stream",
     "text": [
      "       windSpdKts  gustKts  windVrbDeg  intensity  rain  visibilityMtrs   qnh  \\\n",
      "3032           18        0          60       0.00     0            9999  1024   \n",
      "32679          11        0           0       0.00     0            9999  1023   \n",
      "39332          13        0           0       0.00     0            9999  1002   \n",
      "20571          16        0           0       0.00     0            9999  1019   \n",
      "34804          13        0           0       0.00     0            9999  1015   \n",
      "...           ...      ...         ...        ...   ...             ...   ...   \n",
      "32815          25        0           0       0.00     0            9999  1028   \n",
      "23083          13        0           0       0.00     0            9999  1023   \n",
      "26152           7        0          60       0.00     0            9999  1006   \n",
      "18903           2        0           0       0.00     0            9999  1016   \n",
      "35213          12        0           0       0.00     0            9999  1017   \n",
      "\n",
      "       ws  \n",
      "3032    0  \n",
      "32679   0  \n",
      "39332   0  \n",
      "20571   0  \n",
      "34804   0  \n",
      "...    ..  \n",
      "32815   1  \n",
      "23083   0  \n",
      "26152   0  \n",
      "18903   0  \n",
      "35213   0  \n",
      "\n",
      "[40923 rows x 8 columns]\n"
     ]
    }
   ],
   "source": [
    "airport = \"RCTP\"\n",
    "\n",
    "train_df = pd.read_csv(airport + \"/\" + airport + \"_train.csv\")\n",
    "test_df = pd.read_csv(airport + \"/\" + airport + \"_test.csv\")\n",
    "train_df = train_df.reindex(np.random.permutation(train_df.index)) # shuffle the training set\n",
    "\n",
    "print(train_df)"
   ]
  },
  {
   "cell_type": "code",
   "execution_count": 175,
   "id": "2e07273b",
   "metadata": {},
   "outputs": [
    {
     "name": "stdout",
     "output_type": "stream",
     "text": [
      "       windSpdKts  gustKts  windVrbDeg  intensity  rain  visibilityMtrs   qnh  \\\n",
      "3032         0.36     0.00        0.60       0.00     0            9999  1.10   \n",
      "32679        0.22     0.00        0.00       0.00     0            9999  1.00   \n",
      "39332        0.26     0.00        0.00       0.00     0            9999 -1.10   \n",
      "20571        0.32     0.00        0.00       0.00     0            9999  0.60   \n",
      "34804        0.26     0.00        0.00       0.00     0            9999  0.20   \n",
      "...           ...      ...         ...        ...   ...             ...   ...   \n",
      "32815        0.50     0.00        0.00       0.00     0            9999  1.50   \n",
      "23083        0.26     0.00        0.00       0.00     0            9999  1.00   \n",
      "26152        0.14     0.00        0.60       0.00     0            9999 -0.70   \n",
      "18903        0.04     0.00        0.00       0.00     0            9999  0.30   \n",
      "35213        0.24     0.00        0.00       0.00     0            9999  0.40   \n",
      "\n",
      "       ws  \n",
      "3032    0  \n",
      "32679   0  \n",
      "39332   0  \n",
      "20571   0  \n",
      "34804   0  \n",
      "...    ..  \n",
      "32815   1  \n",
      "23083   0  \n",
      "26152   0  \n",
      "18903   0  \n",
      "35213   0  \n",
      "\n",
      "[40923 rows x 8 columns]\n",
      "       windSpdKts  gustKts  windVrbDeg  intensity  rain  visibilityMtrs   qnh  \\\n",
      "0            0.32     0.00        0.00       0.00     0            9999  0.80   \n",
      "1            0.14     0.00        0.00       0.00     0            9999  0.80   \n",
      "2            0.06     0.00        0.00       0.00     0            9999  0.70   \n",
      "3            0.06     0.00        0.00       0.00     0            7000  0.70   \n",
      "4            0.08     0.00        0.60       0.00     0            9999  0.80   \n",
      "...           ...      ...         ...        ...   ...             ...   ...   \n",
      "10256        0.32     0.00        0.00       0.00     0            9999 -0.30   \n",
      "10257        0.26     0.00        0.00       0.00     0            9999  0.00   \n",
      "10258        0.10     0.00        0.00       0.00     0            9999  0.10   \n",
      "10259        0.08     0.00        0.00       0.00     0            9999  0.00   \n",
      "10260        0.06     0.00        0.00       0.00     0            9999  0.00   \n",
      "\n",
      "       ws  \n",
      "0       0  \n",
      "1       0  \n",
      "2       0  \n",
      "3       0  \n",
      "4       0  \n",
      "...    ..  \n",
      "10256   1  \n",
      "10257   0  \n",
      "10258   0  \n",
      "10259   0  \n",
      "10260   0  \n",
      "\n",
      "[10261 rows x 8 columns]\n"
     ]
    }
   ],
   "source": [
    "train_df_norm = train_df.copy()\n",
    "test_df_norm = test_df.copy()\n",
    "\n",
    "# Scale down wind speed\n",
    "train_df_norm[\"windSpdKts\"] /= 50\n",
    "test_df_norm[\"windSpdKts\"] /= 50\n",
    "\n",
    "# Scale down wind gust speed\n",
    "train_df_norm[\"gustKts\"] /= 50\n",
    "test_df_norm[\"gustKts\"] /= 50\n",
    "\n",
    "# Scale down wind variability\n",
    "train_df_norm[\"windVrbDeg\"] /= 100\n",
    "test_df_norm[\"windVrbDeg\"] /= 100\n",
    "\n",
    "# Scale down visibility\n",
    "# train_df_norm[\"visibilityMtrs\"] /= 10000\n",
    "# test_df_norm[\"visibilityMtrs\"] /= 10000\n",
    "\n",
    "# Normalise, scale down QNH\n",
    "train_df_norm[\"qnh\"] -= 1013\n",
    "train_df_norm[\"qnh\"] /= 10\n",
    "test_df_norm[\"qnh\"] -= 1013\n",
    "test_df_norm[\"qnh\"] /= 10\n",
    "\n",
    "print(train_df_norm)\n",
    "print(test_df_norm)"
   ]
  },
  {
   "cell_type": "code",
   "execution_count": 176,
   "id": "29814cf4",
   "metadata": {},
   "outputs": [],
   "source": [
    "feature_columns = []\n",
    "\n",
    "windSpdKts = tf.feature_column.numeric_column(\"windSpdKts\")\n",
    "feature_columns.append(windSpdKts)\n",
    "\n",
    "gustKts = tf.feature_column.numeric_column(\"gustKts\")\n",
    "feature_columns.append(gustKts)\n",
    "\n",
    "windVrbDeg = tf.feature_column.numeric_column(\"windVrbDeg\")\n",
    "feature_columns.append(windVrbDeg)\n",
    "\n",
    "intensity = tf.feature_column.numeric_column(\"intensity\")\n",
    "feature_columns.append(intensity)\n",
    "\n",
    "rain = tf.feature_column.numeric_column(\"rain\")\n",
    "feature_columns.append(rain)\n",
    "\n",
    "vis_boundaries = list(np.arange(-1, 10000, 1000))\n",
    "visibilityMtrs = tf.feature_column.numeric_column(\"visibilityMtrs\")\n",
    "visibilityMtrsBin = tf.feature_column.bucketized_column(visibilityMtrs, vis_boundaries)\n",
    "feature_columns.append(visibilityMtrsBin)\n",
    "# print(visibilityMtrsBin)\n",
    "\n",
    "qnh = tf.feature_column.numeric_column(\"qnh\")\n",
    "feature_columns.append(qnh)\n",
    "\n",
    "# Create a feature cross of windSpdKts and windVrbDeg\n",
    "spd_x_vrb = tf.feature_column.crossed_column([\"windSpdKts\", \"windVrbDeg\"], hash_bucket_size=1000)\n",
    "crossed_spd_vrb = tf.feature_column.indicator_column(spd_x_vrb)\n",
    "feature_columns.append(crossed_spd_vrb)\n",
    "\n",
    "# Create a feature cross of intensity and rain\n",
    "int_x_rain = tf.feature_column.crossed_column([\"intensity\", \"rain\"], hash_bucket_size=50)\n",
    "crossed_int_rain = tf.feature_column.indicator_column(int_x_rain)\n",
    "feature_columns.append(crossed_int_rain)\n",
    "\n",
    "feature_layer = layers.DenseFeatures(feature_columns)\n",
    "\n",
    "# np.set_printoptions(threshold=False)\n",
    "# print(train_df_norm[train_df_norm.visibilityMtrs == train_df_norm.visibilityMtrs.min()])\n",
    "# print(feature_layer(dict(train_df_norm)))"
   ]
  },
  {
   "cell_type": "code",
   "execution_count": 177,
   "id": "a579562d",
   "metadata": {},
   "outputs": [
    {
     "name": "stdout",
     "output_type": "stream",
     "text": [
      "Defined the create_model and train_model functions.\n"
     ]
    }
   ],
   "source": [
    "def neural_model(my_learning_rate, feature_layer, my_metrics):\n",
    "    \"\"\"Create and compile a simple classification model.\"\"\"\n",
    "    model = tf.keras.models.Sequential()\n",
    "    \n",
    "    model.add(feature_layer)\n",
    "\n",
    "    # Funnel the regression value through a ReLU function.\n",
    "    model.add(tf.keras.layers.Dense(units=30, activation='relu', name=\"hidden1\",\n",
    "                                    kernel_regularizer=tf.keras.regularizers.l2(l=0.0)))\n",
    "    \n",
    "    model.add(tf.keras.layers.Dense(units=10, activation='relu', name=\"hidden2\",\n",
    "                                    kernel_regularizer=tf.keras.regularizers.l2(l=0.0)))\n",
    "    \n",
    "    # Define the output layer.\n",
    "    model.add(tf.keras.layers.Dense(units=1, name='Output', activation='sigmoid'))\n",
    "\n",
    "    # Call the compile method to construct the layers into a model that\n",
    "    # TensorFlow can execute.  Notice that we're using a different loss\n",
    "    # function for classification than for regression.    \n",
    "    model.compile(optimizer=tf.keras.optimizers.RMSprop(learning_rate=my_learning_rate),                                                   \n",
    "                    loss=tf.keras.losses.BinaryCrossentropy(),\n",
    "                    metrics=my_metrics)\n",
    "\n",
    "    return model\n",
    "\n",
    "\n",
    "def linear_model(my_learning_rate, feature_layer, my_metrics):\n",
    "    \"\"\"Create and compile a simple classification model.\"\"\"\n",
    "    model = tf.keras.models.Sequential()\n",
    "    \n",
    "    model.add(feature_layer)\n",
    "\n",
    "    # Funnel the regression value through a ReLU function.\n",
    "    model.add(tf.keras.layers.Dense(units=1, input_shape=(20,), activation='sigmoid'))\n",
    "\n",
    "    # Call the compile method to construct the layers into a model that\n",
    "    # TensorFlow can execute.  Notice that we're using a different loss\n",
    "    # function for classification than for regression.    \n",
    "    model.compile(optimizer=tf.keras.optimizers.RMSprop(learning_rate=my_learning_rate),                                                   \n",
    "                    loss=tf.keras.losses.BinaryCrossentropy(),\n",
    "                    metrics=my_metrics)\n",
    "\n",
    "    return model   \n",
    "\n",
    "\n",
    "def train_model(model, dataset, epochs, label_name,\n",
    "                batch_size=None, shuffle=True, validation_split=0.2):\n",
    "    \"\"\"Feed a dataset into the model in order to train it.\"\"\"\n",
    "\n",
    "    # The x parameter of tf.keras.Model.fit can be a list of arrays, where\n",
    "    # each array contains the data for one feature.  Here, we're passing\n",
    "    # every column in the dataset. Note that the feature_layer will filter\n",
    "    # away most of those columns, leaving only the desired columns and their\n",
    "    # representations as features.\n",
    "    features = {name:np.array(value) for name, value in dataset.items()}\n",
    "    label = np.array(features.pop(label_name)) \n",
    "    history = model.fit(x=features, y=label, batch_size=batch_size,\n",
    "                          epochs=epochs, shuffle=shuffle, validation_split=validation_split)\n",
    "\n",
    "    # The list of epochs is stored separately from the rest of history.\n",
    "    epochs = history.epoch\n",
    "\n",
    "    # Isolate the classification metric for each epoch.\n",
    "    hist = pd.DataFrame(history.history)\n",
    "\n",
    "    return epochs, hist\n",
    "\n",
    "print(\"Defined the create_model and train_model functions.\")"
   ]
  },
  {
   "cell_type": "code",
   "execution_count": 178,
   "id": "b2bf66bb",
   "metadata": {},
   "outputs": [
    {
     "name": "stdout",
     "output_type": "stream",
     "text": [
      "Defined the plot_curve function.\n"
     ]
    }
   ],
   "source": [
    "def plot_curve(epochs, hist, list_of_metrics):\n",
    "    \"\"\"Plot a curve of one or more classification metrics vs. epoch.\"\"\"   \n",
    "\n",
    "    plt.figure()\n",
    "    plt.xlabel(\"Epoch\")\n",
    "    plt.ylabel(\"Value\")\n",
    "\n",
    "    for m in list_of_metrics:\n",
    "        x = hist[m]\n",
    "        plt.plot(epochs[1:], x[1:], label=m)\n",
    "\n",
    "    plt.legend()\n",
    "\n",
    "print(\"Defined the plot_curve function.\")"
   ]
  },
  {
   "cell_type": "code",
   "execution_count": 183,
   "id": "62a9618b",
   "metadata": {},
   "outputs": [
    {
     "name": "stdout",
     "output_type": "stream",
     "text": [
      "Epoch 1/20\n",
      "WARNING:tensorflow:Layers in a Sequential model should only have a single input tensor. Received: inputs={'windSpdKts': <tf.Tensor 'IteratorGetNext:5' shape=(None,) dtype=float32>, 'gustKts': <tf.Tensor 'IteratorGetNext:0' shape=(None,) dtype=float32>, 'windVrbDeg': <tf.Tensor 'IteratorGetNext:6' shape=(None,) dtype=float32>, 'intensity': <tf.Tensor 'IteratorGetNext:1' shape=(None,) dtype=float32>, 'rain': <tf.Tensor 'IteratorGetNext:3' shape=(None,) dtype=int64>, 'visibilityMtrs': <tf.Tensor 'IteratorGetNext:4' shape=(None,) dtype=int64>, 'qnh': <tf.Tensor 'IteratorGetNext:2' shape=(None,) dtype=float32>}. Consider rewriting this model with the Functional API.\n",
      "WARNING:tensorflow:Layers in a Sequential model should only have a single input tensor. Received: inputs={'windSpdKts': <tf.Tensor 'IteratorGetNext:5' shape=(None,) dtype=float32>, 'gustKts': <tf.Tensor 'IteratorGetNext:0' shape=(None,) dtype=float32>, 'windVrbDeg': <tf.Tensor 'IteratorGetNext:6' shape=(None,) dtype=float32>, 'intensity': <tf.Tensor 'IteratorGetNext:1' shape=(None,) dtype=float32>, 'rain': <tf.Tensor 'IteratorGetNext:3' shape=(None,) dtype=int64>, 'visibilityMtrs': <tf.Tensor 'IteratorGetNext:4' shape=(None,) dtype=int64>, 'qnh': <tf.Tensor 'IteratorGetNext:2' shape=(None,) dtype=float32>}. Consider rewriting this model with the Functional API.\n",
      "307/328 [===========================>..] - ETA: 0s - loss: 0.3876 - accuracy: 0.8422 - precision: 0.0897 - recall: 0.0663 - roc-auc: 0.5626 - pr-auc: 0.1057WARNING:tensorflow:Layers in a Sequential model should only have a single input tensor. Received: inputs={'windSpdKts': <tf.Tensor 'IteratorGetNext:5' shape=(None,) dtype=float32>, 'gustKts': <tf.Tensor 'IteratorGetNext:0' shape=(None,) dtype=float32>, 'windVrbDeg': <tf.Tensor 'IteratorGetNext:6' shape=(None,) dtype=float32>, 'intensity': <tf.Tensor 'IteratorGetNext:1' shape=(None,) dtype=float32>, 'rain': <tf.Tensor 'IteratorGetNext:3' shape=(None,) dtype=int64>, 'visibilityMtrs': <tf.Tensor 'IteratorGetNext:4' shape=(None,) dtype=int64>, 'qnh': <tf.Tensor 'IteratorGetNext:2' shape=(None,) dtype=float32>}. Consider rewriting this model with the Functional API.\n",
      "328/328 [==============================] - 2s 3ms/step - loss: 0.3816 - accuracy: 0.8459 - precision: 0.0897 - recall: 0.0622 - roc-auc: 0.5719 - pr-auc: 0.1077 - val_loss: 0.2872 - val_accuracy: 0.9023 - val_precision: 0.0000e+00 - val_recall: 0.0000e+00 - val_roc-auc: 0.8022 - val_pr-auc: 0.3308\n",
      "Epoch 2/20\n",
      "328/328 [==============================] - 1s 2ms/step - loss: 0.2696 - accuracy: 0.9055 - precision: 0.8254 - recall: 0.0485 - roc-auc: 0.8279 - pr-auc: 0.3997 - val_loss: 0.2513 - val_accuracy: 0.9104 - val_precision: 0.7030 - val_recall: 0.1450 - val_roc-auc: 0.8631 - val_pr-auc: 0.4568\n",
      "Epoch 3/20\n",
      "328/328 [==============================] - 1s 2ms/step - loss: 0.2407 - accuracy: 0.9119 - precision: 0.6736 - recall: 0.2002 - roc-auc: 0.8691 - pr-auc: 0.4751 - val_loss: 0.2292 - val_accuracy: 0.9106 - val_precision: 0.6308 - val_recall: 0.2050 - val_roc-auc: 0.8858 - val_pr-auc: 0.5052\n",
      "Epoch 4/20\n",
      "328/328 [==============================] - 1s 2ms/step - loss: 0.2225 - accuracy: 0.9138 - precision: 0.6636 - recall: 0.2496 - roc-auc: 0.8906 - pr-auc: 0.5224 - val_loss: 0.2138 - val_accuracy: 0.9130 - val_precision: 0.6438 - val_recall: 0.2463 - val_roc-auc: 0.9008 - val_pr-auc: 0.5411\n",
      "Epoch 5/20\n",
      "328/328 [==============================] - 1s 2ms/step - loss: 0.2099 - accuracy: 0.9163 - precision: 0.6635 - recall: 0.3003 - roc-auc: 0.9014 - pr-auc: 0.5514 - val_loss: 0.2031 - val_accuracy: 0.9186 - val_precision: 0.6872 - val_recall: 0.3075 - val_roc-auc: 0.9093 - val_pr-auc: 0.5679\n",
      "Epoch 6/20\n",
      "328/328 [==============================] - 1s 2ms/step - loss: 0.2020 - accuracy: 0.9190 - precision: 0.6689 - recall: 0.3478 - roc-auc: 0.9072 - pr-auc: 0.5724 - val_loss: 0.1973 - val_accuracy: 0.9217 - val_precision: 0.6717 - val_recall: 0.3887 - val_roc-auc: 0.9130 - val_pr-auc: 0.5808\n",
      "Epoch 7/20\n",
      "328/328 [==============================] - 1s 2ms/step - loss: 0.1984 - accuracy: 0.9196 - precision: 0.6572 - recall: 0.3808 - roc-auc: 0.9095 - pr-auc: 0.5827 - val_loss: 0.1944 - val_accuracy: 0.9225 - val_precision: 0.6774 - val_recall: 0.3963 - val_roc-auc: 0.9140 - val_pr-auc: 0.5888\n",
      "Epoch 8/20\n",
      "328/328 [==============================] - 1s 2ms/step - loss: 0.1964 - accuracy: 0.9201 - precision: 0.6517 - recall: 0.4013 - roc-auc: 0.9108 - pr-auc: 0.5893 - val_loss: 0.1968 - val_accuracy: 0.9224 - val_precision: 0.7200 - val_recall: 0.3375 - val_roc-auc: 0.9135 - val_pr-auc: 0.5891\n",
      "Epoch 9/20\n",
      "328/328 [==============================] - 1s 2ms/step - loss: 0.1954 - accuracy: 0.9203 - precision: 0.6512 - recall: 0.4063 - roc-auc: 0.9115 - pr-auc: 0.5917 - val_loss: 0.1929 - val_accuracy: 0.9203 - val_precision: 0.6271 - val_recall: 0.4563 - val_roc-auc: 0.9148 - val_pr-auc: 0.5949\n",
      "Epoch 10/20\n",
      "328/328 [==============================] - 1s 2ms/step - loss: 0.1950 - accuracy: 0.9200 - precision: 0.6417 - recall: 0.4209 - roc-auc: 0.9116 - pr-auc: 0.5921 - val_loss: 0.1929 - val_accuracy: 0.9238 - val_precision: 0.7095 - val_recall: 0.3725 - val_roc-auc: 0.9149 - val_pr-auc: 0.6003\n",
      "Epoch 11/20\n",
      "328/328 [==============================] - 1s 2ms/step - loss: 0.1945 - accuracy: 0.9205 - precision: 0.6455 - recall: 0.4240 - roc-auc: 0.9114 - pr-auc: 0.5957 - val_loss: 0.1922 - val_accuracy: 0.9218 - val_precision: 0.6351 - val_recall: 0.4700 - val_roc-auc: 0.9156 - val_pr-auc: 0.5996\n",
      "Epoch 12/20\n",
      "328/328 [==============================] - 1s 2ms/step - loss: 0.1943 - accuracy: 0.9203 - precision: 0.6414 - recall: 0.4280 - roc-auc: 0.9118 - pr-auc: 0.5971 - val_loss: 0.1915 - val_accuracy: 0.9247 - val_precision: 0.6691 - val_recall: 0.4550 - val_roc-auc: 0.9158 - val_pr-auc: 0.5971\n",
      "Epoch 13/20\n",
      "328/328 [==============================] - 1s 2ms/step - loss: 0.1942 - accuracy: 0.9202 - precision: 0.6414 - recall: 0.4265 - roc-auc: 0.9118 - pr-auc: 0.5958 - val_loss: 0.1915 - val_accuracy: 0.9211 - val_precision: 0.6323 - val_recall: 0.4600 - val_roc-auc: 0.9156 - val_pr-auc: 0.6023\n",
      "Epoch 14/20\n",
      "328/328 [==============================] - 1s 2ms/step - loss: 0.1939 - accuracy: 0.9205 - precision: 0.6430 - recall: 0.4299 - roc-auc: 0.9122 - pr-auc: 0.5969 - val_loss: 0.1910 - val_accuracy: 0.9219 - val_precision: 0.6381 - val_recall: 0.4650 - val_roc-auc: 0.9159 - val_pr-auc: 0.6026\n",
      "Epoch 15/20\n",
      "328/328 [==============================] - 1s 2ms/step - loss: 0.1936 - accuracy: 0.9203 - precision: 0.6391 - recall: 0.4349 - roc-auc: 0.9122 - pr-auc: 0.5989 - val_loss: 0.1906 - val_accuracy: 0.9225 - val_precision: 0.6653 - val_recall: 0.4175 - val_roc-auc: 0.9164 - val_pr-auc: 0.6028\n",
      "Epoch 16/20\n",
      "328/328 [==============================] - 1s 2ms/step - loss: 0.1936 - accuracy: 0.9207 - precision: 0.6427 - recall: 0.4339 - roc-auc: 0.9121 - pr-auc: 0.5984 - val_loss: 0.1926 - val_accuracy: 0.9243 - val_precision: 0.7153 - val_recall: 0.3738 - val_roc-auc: 0.9150 - val_pr-auc: 0.6011\n",
      "Epoch 17/20\n",
      "328/328 [==============================] - 1s 2ms/step - loss: 0.1936 - accuracy: 0.9212 - precision: 0.6467 - recall: 0.4364 - roc-auc: 0.9121 - pr-auc: 0.5985 - val_loss: 0.1907 - val_accuracy: 0.9249 - val_precision: 0.6899 - val_recall: 0.4200 - val_roc-auc: 0.9159 - val_pr-auc: 0.6020\n",
      "Epoch 18/20\n",
      "328/328 [==============================] - 1s 2ms/step - loss: 0.1939 - accuracy: 0.9205 - precision: 0.6431 - recall: 0.4296 - roc-auc: 0.9119 - pr-auc: 0.5989 - val_loss: 0.1903 - val_accuracy: 0.9235 - val_precision: 0.6605 - val_recall: 0.4475 - val_roc-auc: 0.9167 - val_pr-auc: 0.6025\n",
      "Epoch 19/20\n",
      "328/328 [==============================] - 1s 2ms/step - loss: 0.1936 - accuracy: 0.9207 - precision: 0.6433 - recall: 0.4339 - roc-auc: 0.9125 - pr-auc: 0.5982 - val_loss: 0.1905 - val_accuracy: 0.9219 - val_precision: 0.6600 - val_recall: 0.4150 - val_roc-auc: 0.9162 - val_pr-auc: 0.6018\n",
      "Epoch 20/20\n",
      "328/328 [==============================] - 1s 2ms/step - loss: 0.1933 - accuracy: 0.9211 - precision: 0.6455 - recall: 0.4364 - roc-auc: 0.9131 - pr-auc: 0.5991 - val_loss: 0.1915 - val_accuracy: 0.9236 - val_precision: 0.6915 - val_recall: 0.3950 - val_roc-auc: 0.9153 - val_pr-auc: 0.5994\n"
     ]
    },
    {
     "name": "stdout",
     "output_type": "stream",
     "text": [
      "103/103 [==============================] - 0s 1ms/step - loss: 0.2012 - accuracy: 0.9185 - precision: 0.6489 - recall: 0.3931 - roc-auc: 0.9082 - pr-auc: 0.5732\n",
      "[0.20117489993572235, 0.9185264706611633, 0.6488673090934753, 0.39313724637031555, 0.9081734418869019, 0.5732071995735168]\n"
     ]
    },
    {
     "data": {
      "image/png": "[encoded data removed]",
      "text/plain": [
       "<Figure size 432x288 with 1 Axes>"
      ]
     },
     "metadata": {
      "needs_background": "light"
     },
     "output_type": "display_data"
    }
   ],
   "source": [
    "learning_rate = 0.0005\n",
    "epochs = 20\n",
    "batch_size = 100\n",
    "label_name = \"ws\"\n",
    "classification_threshold = 0.45\n",
    "validation_split = 0.2\n",
    "\n",
    "# Establish the metrics the model will measure.\n",
    "METRICS = [\n",
    "    tf.keras.metrics.BinaryAccuracy(name='accuracy', threshold=classification_threshold),\n",
    "    tf.keras.metrics.Precision(thresholds=classification_threshold,name='precision'),\n",
    "    tf.keras.metrics.Recall(thresholds=classification_threshold,name='recall'),\n",
    "    tf.keras.metrics.AUC(num_thresholds=100, name='roc-auc'),\n",
    "    tf.keras.metrics.AUC(num_thresholds=100, name='pr-auc', curve='PR')\n",
    "]\n",
    "\n",
    "# Establish the model's topography.\n",
    "my_model = neural_model(learning_rate, feature_layer, METRICS)\n",
    "\n",
    "# Train the model on the training set.\n",
    "epochs, hist = train_model(my_model, train_df_norm, epochs, \n",
    "                           label_name, batch_size, validation_split=validation_split)\n",
    "\n",
    "# Plot a graph of the metric(s) vs. epochs.\n",
    "list_of_metrics_to_plot = ['loss', 'accuracy', 'precision', 'recall', 'roc-auc', 'pr-auc']\n",
    "\n",
    "plot_curve(epochs, hist, list_of_metrics_to_plot)\n",
    "\n",
    "x_test = {name: np.array(value) for name, value in test_df_norm.items()}\n",
    "y_test = np.array(x_test.pop(label_name))\n",
    "\n",
    "results = my_model.evaluate(x_test, y_test, batch_size=batch_size)\n",
    "print(results)"
   ]
  }
 ],
 "metadata": {
  "kernelspec": {
   "display_name": "Python 3 (ipykernel)",
   "language": "python",
   "name": "python3"
  },
  "language_info": {
   "codemirror_mode": {
    "name": "ipython",
    "version": 3
   },
   "file_extension": ".py",
   "mimetype": "text/x-python",
   "name": "python",
   "nbconvert_exporter": "python",
   "pygments_lexer": "ipython3",
   "version": "3.10.0"
  }
 },
 "nbformat": 4,
 "nbformat_minor": 5
}
