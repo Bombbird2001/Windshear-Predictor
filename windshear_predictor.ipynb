{
 "cells": [
  {
   "cell_type": "code",
   "execution_count": 4,
   "id": "ce1ffff7",
   "metadata": {},
   "outputs": [
    {
     "name": "stdout",
     "output_type": "stream",
     "text": [
      "Enter airport ICAO code: RCSS\n",
      "Enter end year: 2022\n",
      "Enter end month: 3\n",
      "Enter end day: 8\n",
      "Enter end hour: 12\n",
      "Enter time in months: 48\n",
      "1 of 48 months retrieved\n",
      "2 of 48 months retrieved\n",
      "3 of 48 months retrieved\n",
      "Pausing for 1 minute to prevent overloading...\n",
      "4 of 48 months retrieved\n",
      "5 of 48 months retrieved\n",
      "6 of 48 months retrieved\n",
      "Pausing for 1 minute to prevent overloading...\n",
      "7 of 48 months retrieved\n",
      "8 of 48 months retrieved\n",
      "9 of 48 months retrieved\n",
      "Pausing for 1 minute to prevent overloading...\n",
      "10 of 48 months retrieved\n",
      "11 of 48 months retrieved\n",
      "12 of 48 months retrieved\n",
      "Pausing for 1 minute to prevent overloading...\n",
      "13 of 48 months retrieved\n",
      "14 of 48 months retrieved\n",
      "15 of 48 months retrieved\n",
      "Pausing for 1 minute to prevent overloading...\n",
      "16 of 48 months retrieved\n",
      "17 of 48 months retrieved\n",
      "18 of 48 months retrieved\n",
      "Pausing for 1 minute to prevent overloading...\n",
      "19 of 48 months retrieved\n",
      "20 of 48 months retrieved\n",
      "21 of 48 months retrieved\n",
      "Pausing for 1 minute to prevent overloading...\n",
      "22 of 48 months retrieved\n",
      "23 of 48 months retrieved\n",
      "24 of 48 months retrieved\n",
      "Pausing for 1 minute to prevent overloading...\n",
      "25 of 48 months retrieved\n",
      "26 of 48 months retrieved\n",
      "27 of 48 months retrieved\n",
      "Pausing for 1 minute to prevent overloading...\n",
      "28 of 48 months retrieved\n",
      "29 of 48 months retrieved\n",
      "30 of 48 months retrieved\n",
      "Pausing for 1 minute to prevent overloading...\n",
      "31 of 48 months retrieved\n",
      "32 of 48 months retrieved\n",
      "33 of 48 months retrieved\n",
      "Pausing for 1 minute to prevent overloading...\n",
      "34 of 48 months retrieved\n",
      "35 of 48 months retrieved\n",
      "36 of 48 months retrieved\n",
      "Pausing for 1 minute to prevent overloading...\n",
      "37 of 48 months retrieved\n",
      "38 of 48 months retrieved\n",
      "39 of 48 months retrieved\n",
      "Pausing for 1 minute to prevent overloading...\n",
      "40 of 48 months retrieved\n",
      "41 of 48 months retrieved\n",
      "42 of 48 months retrieved\n",
      "Pausing for 1 minute to prevent overloading...\n",
      "43 of 48 months retrieved\n",
      "44 of 48 months retrieved\n",
      "45 of 48 months retrieved\n",
      "Pausing for 1 minute to prevent overloading...\n",
      "46 of 48 months retrieved\n",
      "47 of 48 months retrieved\n",
      "48 of 48 months retrieved\n",
      "48 month(s) of data for RCSS retrieved successfully\n"
     ]
    }
   ],
   "source": [
    "# Get METAR data in bulk\n",
    "%run auto_request_data.py"
   ]
  },
  {
   "cell_type": "code",
   "execution_count": 21,
   "id": "3341f68b",
   "metadata": {},
   "outputs": [
    {
     "name": "stdout",
     "output_type": "stream",
     "text": [
      "RCSS\n"
     ]
    }
   ],
   "source": [
    "# Parse relevant METAR data into CSV\n",
    "%run parse_to_csv.py RCSS"
   ]
  },
  {
   "cell_type": "code",
   "execution_count": 2,
   "id": "cb18848d",
   "metadata": {},
   "outputs": [
    {
     "name": "stdout",
     "output_type": "stream",
     "text": [
      "TensorFlow version: 2.8.0\n"
     ]
    }
   ],
   "source": [
    "import tensorflow as tf\n",
    "print(\"TensorFlow version:\", tf.__version__)"
   ]
  },
  {
   "cell_type": "code",
   "execution_count": 3,
   "id": "575eaec2",
   "metadata": {},
   "outputs": [],
   "source": [
    "import sys\n",
    "import numpy as np\n",
    "import pandas as pd\n",
    "import tensorflow as tf\n",
    "from tensorflow.keras import layers\n",
    "from matplotlib import pyplot as plt\n",
    "\n",
    "pd.options.display.max_rows = 10\n",
    "pd.options.display.float_format = \"{:.2f}\".format"
   ]
  },
  {
   "cell_type": "code",
   "execution_count": 22,
   "id": "8d57c032",
   "metadata": {},
   "outputs": [
    {
     "name": "stdout",
     "output_type": "stream",
     "text": [
      "       month  windSpdKts  gustKts  windVrbDeg  intensity  rain  \\\n",
      "5613       8           6        0          70       0.00     0   \n",
      "27897      1          13        0           0       0.00     0   \n",
      "2906      11          10        0           0       0.30     1   \n",
      "20251     12          17        0           0       0.00     0   \n",
      "25125      4           8        0           0       0.30     1   \n",
      "...      ...         ...      ...         ...        ...   ...   \n",
      "28703     12           4        0           0       0.00     0   \n",
      "4033      10          11        0           0       0.00     0   \n",
      "5629       8           3        0          80       0.00     0   \n",
      "10743      2           5        0           0       0.30     1   \n",
      "23952      6           4        0           0       0.00     0   \n",
      "\n",
      "       visibilityMtrs   qnh  ws  \n",
      "5613             9999  1007   0  \n",
      "27897            9999  1022   0  \n",
      "2906             9999  1021   0  \n",
      "20251            9999  1018   0  \n",
      "25125            5000  1010   0  \n",
      "...               ...   ...  ..  \n",
      "28703            9999  1015   0  \n",
      "4033             9999  1019   0  \n",
      "5629             9999  1011   0  \n",
      "10743            3500  1012   0  \n",
      "23952            9999  1009   0  \n",
      "\n",
      "[32463 rows x 9 columns]\n"
     ]
    }
   ],
   "source": [
    "airport = \"RCSS\"\n",
    "\n",
    "train_df = pd.read_csv(airport + \"/\" + airport + \"_train.csv\")\n",
    "test_df = pd.read_csv(airport + \"/\" + airport + \"_test.csv\")\n",
    "train_df = train_df.reindex(np.random.permutation(train_df.index)) # shuffle the training set\n",
    "\n",
    "print(train_df)"
   ]
  },
  {
   "cell_type": "code",
   "execution_count": 23,
   "id": "2e07273b",
   "metadata": {},
   "outputs": [
    {
     "name": "stdout",
     "output_type": "stream",
     "text": [
      "       month  windSpdKts  gustKts  windVrbDeg  intensity  rain  \\\n",
      "5613       8        0.12     0.00        0.70       0.00     0   \n",
      "27897      1        0.26     0.00        0.00       0.00     0   \n",
      "2906      11        0.20     0.00        0.00       0.30     1   \n",
      "20251     12        0.34     0.00        0.00       0.00     0   \n",
      "25125      4        0.16     0.00        0.00       0.30     1   \n",
      "...      ...         ...      ...         ...        ...   ...   \n",
      "28703     12        0.08     0.00        0.00       0.00     0   \n",
      "4033      10        0.22     0.00        0.00       0.00     0   \n",
      "5629       8        0.06     0.00        0.80       0.00     0   \n",
      "10743      2        0.10     0.00        0.00       0.30     1   \n",
      "23952      6        0.08     0.00        0.00       0.00     0   \n",
      "\n",
      "       visibilityMtrs   qnh  ws  \n",
      "5613             9999 -0.60   0  \n",
      "27897            9999  0.90   0  \n",
      "2906             9999  0.80   0  \n",
      "20251            9999  0.50   0  \n",
      "25125            5000 -0.30   0  \n",
      "...               ...   ...  ..  \n",
      "28703            9999  0.20   0  \n",
      "4033             9999  0.60   0  \n",
      "5629             9999 -0.20   0  \n",
      "10743            3500 -0.10   0  \n",
      "23952            9999 -0.40   0  \n",
      "\n",
      "[32463 rows x 9 columns]\n",
      "       month  windSpdKts  gustKts  windVrbDeg  intensity  rain  \\\n",
      "0          3        0.24     0.00        0.00       0.00     0   \n",
      "1          3        0.26     0.00        0.60       0.00     0   \n",
      "2          3        0.24     0.00        0.70       0.00     0   \n",
      "3          3        0.26     0.00        0.60       0.00     0   \n",
      "4          3        0.28     0.00        0.00       0.00     0   \n",
      "...      ...         ...      ...         ...        ...   ...   \n",
      "13862      4        0.02     0.00        0.00       0.00     0   \n",
      "13863      4        0.02     0.00        0.00       0.00     0   \n",
      "13864      4        0.02     0.00        0.00       0.00     0   \n",
      "13865      4        0.08     0.00        0.00       0.00     0   \n",
      "13866      4        0.06     0.00        0.00       0.00     0   \n",
      "\n",
      "       visibilityMtrs  qnh  ws  \n",
      "0                9999 0.40   0  \n",
      "1                9999 0.30   0  \n",
      "2                9999 0.40   0  \n",
      "3                9999 0.50   0  \n",
      "4                9999 0.70   0  \n",
      "...               ...  ...  ..  \n",
      "13862            9999 0.40   0  \n",
      "13863            9999 0.40   0  \n",
      "13864            9999 0.30   0  \n",
      "13865            9999 0.20   0  \n",
      "13866            9999 0.30   0  \n",
      "\n",
      "[13867 rows x 9 columns]\n"
     ]
    }
   ],
   "source": [
    "train_df_norm = train_df.copy()\n",
    "test_df_norm = test_df.copy()\n",
    "\n",
    "# Scale down wind speed\n",
    "train_df_norm[\"windSpdKts\"] /= 50\n",
    "test_df_norm[\"windSpdKts\"] /= 50\n",
    "\n",
    "# Scale down wind gust speed\n",
    "train_df_norm[\"gustKts\"] /= 50\n",
    "test_df_norm[\"gustKts\"] /= 50\n",
    "\n",
    "# Scale down wind variability\n",
    "train_df_norm[\"windVrbDeg\"] /= 100\n",
    "test_df_norm[\"windVrbDeg\"] /= 100\n",
    "\n",
    "# Scale down visibility\n",
    "# train_df_norm[\"visibilityMtrs\"] /= 10000\n",
    "# test_df_norm[\"visibilityMtrs\"] /= 10000\n",
    "\n",
    "# Normalise, scale down QNH\n",
    "train_df_norm[\"qnh\"] -= 1013\n",
    "train_df_norm[\"qnh\"] /= 10\n",
    "test_df_norm[\"qnh\"] -= 1013\n",
    "test_df_norm[\"qnh\"] /= 10\n",
    "\n",
    "print(train_df_norm)\n",
    "print(test_df_norm)"
   ]
  },
  {
   "cell_type": "code",
   "execution_count": 24,
   "id": "29814cf4",
   "metadata": {},
   "outputs": [],
   "source": [
    "feature_columns = []\n",
    "\n",
    "month_boundaries = list(np.arange(1, 13))\n",
    "month = tf.feature_column.numeric_column(\"month\")\n",
    "monthBin = tf.feature_column.bucketized_column(month, month_boundaries)\n",
    "feature_columns.append(monthBin)\n",
    "# print(monthBin)\n",
    "\n",
    "windSpdKts = tf.feature_column.numeric_column(\"windSpdKts\")\n",
    "feature_columns.append(windSpdKts)\n",
    "\n",
    "gustKts = tf.feature_column.numeric_column(\"gustKts\")\n",
    "feature_columns.append(gustKts)\n",
    "\n",
    "windVrbDeg = tf.feature_column.numeric_column(\"windVrbDeg\")\n",
    "feature_columns.append(windVrbDeg)\n",
    "\n",
    "intensity = tf.feature_column.numeric_column(\"intensity\")\n",
    "feature_columns.append(intensity)\n",
    "\n",
    "rain = tf.feature_column.numeric_column(\"rain\")\n",
    "feature_columns.append(rain)\n",
    "\n",
    "vis_boundaries = list(np.arange(-1, 10000, 1000))\n",
    "visibilityMtrs = tf.feature_column.numeric_column(\"visibilityMtrs\")\n",
    "visibilityMtrsBin = tf.feature_column.bucketized_column(visibilityMtrs, vis_boundaries)\n",
    "feature_columns.append(visibilityMtrsBin)\n",
    "# print(visibilityMtrsBin)\n",
    "\n",
    "qnh = tf.feature_column.numeric_column(\"qnh\")\n",
    "feature_columns.append(qnh)\n",
    "\n",
    "# Create a feature cross of windSpdKts and windVrbDeg\n",
    "spd_x_vrb = tf.feature_column.crossed_column([\"windSpdKts\", \"windVrbDeg\"], hash_bucket_size=1000)\n",
    "crossed_spd_vrb = tf.feature_column.indicator_column(spd_x_vrb)\n",
    "feature_columns.append(crossed_spd_vrb)\n",
    "\n",
    "# Create a feature cross of intensity and rain\n",
    "int_x_rain = tf.feature_column.crossed_column([\"intensity\", \"rain\"], hash_bucket_size=50)\n",
    "crossed_int_rain = tf.feature_column.indicator_column(int_x_rain)\n",
    "feature_columns.append(crossed_int_rain)\n",
    "\n",
    "feature_layer = layers.DenseFeatures(feature_columns)\n",
    "\n",
    "# np.set_printoptions(threshold=False)\n",
    "# print(train_df_norm[train_df_norm.visibilityMtrs == train_df_norm.visibilityMtrs.min()])\n",
    "# print(feature_layer(dict(train_df_norm)))"
   ]
  },
  {
   "cell_type": "code",
   "execution_count": 25,
   "id": "a579562d",
   "metadata": {},
   "outputs": [
    {
     "name": "stdout",
     "output_type": "stream",
     "text": [
      "Defined the 2 models and train_model functions.\n"
     ]
    }
   ],
   "source": [
    "def neural_model(my_learning_rate, feature_layer, my_metrics, initial_bias=None):\n",
    "    \"\"\"Create and compile a simple classification model.\"\"\"\n",
    "    model = tf.keras.models.Sequential()\n",
    "    \n",
    "    if initial_bias is not None:\n",
    "        initial_bias = tf.keras.initializers.Constant(initial_bias)\n",
    "    \n",
    "    model.add(feature_layer)\n",
    "\n",
    "    # Funnel the regression value through a ReLU function.\n",
    "    model.add(tf.keras.layers.Dense(units=40, activation='relu', name=\"hidden1\",\n",
    "                                    kernel_regularizer=tf.keras.regularizers.l2(l=0.001)))\n",
    "    \n",
    "    # model.add(tf.keras.layers.Dropout(0.2))\n",
    "    \n",
    "    model.add(tf.keras.layers.Dense(units=20, activation='relu', name=\"hidden2\",\n",
    "                                    kernel_regularizer=tf.keras.regularizers.l2(l=0.001)))\n",
    "    \n",
    "    # model.add(tf.keras.layers.Dropout(0.2))\n",
    "    \n",
    "    # Define the output layer.\n",
    "    model.add(tf.keras.layers.Dense(units=1, name='Output', activation='sigmoid', bias_initializer=initial_bias))\n",
    "\n",
    "    # Call the compile method to construct the layers into a model that\n",
    "    # TensorFlow can execute.  Notice that we're using a different loss\n",
    "    # function for classification than for regression.    \n",
    "    model.compile(optimizer=tf.keras.optimizers.RMSprop(learning_rate=my_learning_rate),                                                   \n",
    "                    loss=tf.keras.losses.BinaryCrossentropy(),\n",
    "                    metrics=my_metrics)\n",
    "\n",
    "    return model\n",
    "\n",
    "\n",
    "def linear_model(my_learning_rate, feature_layer, my_metrics, initial_bias=None):\n",
    "    \"\"\"Create and compile a simple classification model.\"\"\"\n",
    "    model = tf.keras.models.Sequential()\n",
    "    \n",
    "    if initial_bias is not None:\n",
    "        initial_bias = tf.keras.initializers.Constant(initial_bias)\n",
    "    \n",
    "    model.add(feature_layer)\n",
    "\n",
    "    # Funnel the regression value through a sigmoid function.\n",
    "    model.add(tf.keras.layers.Dense(units=1, input_shape=(20,), activation='sigmoid', bias_initializer=initial_bias))\n",
    "\n",
    "    # Call the compile method to construct the layers into a model that\n",
    "    # TensorFlow can execute.  Notice that we're using a different loss\n",
    "    # function for classification than for regression.    \n",
    "    model.compile(optimizer=tf.keras.optimizers.RMSprop(learning_rate=my_learning_rate),                                                   \n",
    "                    loss=tf.keras.losses.BinaryCrossentropy(),\n",
    "                    metrics=my_metrics)\n",
    "\n",
    "    return model   \n",
    "\n",
    "\n",
    "def train_model(model, dataset, epochs, label_name,\n",
    "                batch_size=None, shuffle=True, validation_split=0.2):\n",
    "    \"\"\"Feed a dataset into the model in order to train it.\"\"\"\n",
    "\n",
    "    # The x parameter of tf.keras.Model.fit can be a list of arrays, where\n",
    "    # each array contains the data for one feature.  Here, we're passing\n",
    "    # every column in the dataset. Note that the feature_layer will filter\n",
    "    # away most of those columns, leaving only the desired columns and their\n",
    "    # representations as features.\n",
    "    features = {name:np.array(value) for name, value in dataset.items()}\n",
    "    label = np.array(features.pop(label_name)) \n",
    "    history = model.fit(x=features, y=label, batch_size=batch_size,\n",
    "                          epochs=epochs, shuffle=shuffle, validation_split=validation_split)\n",
    "\n",
    "    # The list of epochs is stored separately from the rest of history.\n",
    "    epochs = history.epoch\n",
    "\n",
    "    # Isolate the classification metric for each epoch.\n",
    "    hist = pd.DataFrame(history.history)\n",
    "\n",
    "    return epochs, hist\n",
    "\n",
    "print(\"Defined the 2 models and train_model functions.\")"
   ]
  },
  {
   "cell_type": "code",
   "execution_count": 26,
   "id": "b2bf66bb",
   "metadata": {},
   "outputs": [
    {
     "name": "stdout",
     "output_type": "stream",
     "text": [
      "Defined the plot_curve function.\n"
     ]
    }
   ],
   "source": [
    "def plot_curve(epochs, hist, list_of_metrics):\n",
    "    \"\"\"Plot a curve of one or more classification metrics vs. epoch.\"\"\"   \n",
    "\n",
    "    plt.figure()\n",
    "    plt.xlabel(\"Epoch\")\n",
    "    plt.ylabel(\"Value\")\n",
    "\n",
    "    for m in list_of_metrics:\n",
    "        x = hist[m]\n",
    "        plt.plot(epochs[1:], x[1:], label=m)\n",
    "\n",
    "    plt.legend()\n",
    "\n",
    "print(\"Defined the plot_curve function.\")"
   ]
  },
  {
   "cell_type": "code",
   "execution_count": 27,
   "id": "4f5f14c0",
   "metadata": {},
   "outputs": [],
   "source": [
    "def get_initial_bias(train_set):\n",
    "    pos_count = len(train_set[train_set.ws == 1])\n",
    "    neg_count = train_set.size - pos_count\n",
    "    return np.log([pos_count / neg_count])"
   ]
  },
  {
   "cell_type": "code",
   "execution_count": 28,
   "id": "62a9618b",
   "metadata": {},
   "outputs": [
    {
     "name": "stdout",
     "output_type": "stream",
     "text": [
      "Epoch 1/20\n",
      "WARNING:tensorflow:Layers in a Sequential model should only have a single input tensor. Received: inputs={'month': <tf.Tensor 'IteratorGetNext:2' shape=(None,) dtype=int64>, 'windSpdKts': <tf.Tensor 'IteratorGetNext:6' shape=(None,) dtype=float32>, 'gustKts': <tf.Tensor 'IteratorGetNext:0' shape=(None,) dtype=float32>, 'windVrbDeg': <tf.Tensor 'IteratorGetNext:7' shape=(None,) dtype=float32>, 'intensity': <tf.Tensor 'IteratorGetNext:1' shape=(None,) dtype=float32>, 'rain': <tf.Tensor 'IteratorGetNext:4' shape=(None,) dtype=int64>, 'visibilityMtrs': <tf.Tensor 'IteratorGetNext:5' shape=(None,) dtype=int64>, 'qnh': <tf.Tensor 'IteratorGetNext:3' shape=(None,) dtype=float32>}. Consider rewriting this model with the Functional API.\n",
      "WARNING:tensorflow:Layers in a Sequential model should only have a single input tensor. Received: inputs={'month': <tf.Tensor 'IteratorGetNext:2' shape=(None,) dtype=int64>, 'windSpdKts': <tf.Tensor 'IteratorGetNext:6' shape=(None,) dtype=float32>, 'gustKts': <tf.Tensor 'IteratorGetNext:0' shape=(None,) dtype=float32>, 'windVrbDeg': <tf.Tensor 'IteratorGetNext:7' shape=(None,) dtype=float32>, 'intensity': <tf.Tensor 'IteratorGetNext:1' shape=(None,) dtype=float32>, 'rain': <tf.Tensor 'IteratorGetNext:4' shape=(None,) dtype=int64>, 'visibilityMtrs': <tf.Tensor 'IteratorGetNext:5' shape=(None,) dtype=int64>, 'qnh': <tf.Tensor 'IteratorGetNext:3' shape=(None,) dtype=float32>}. Consider rewriting this model with the Functional API.\n",
      "212/228 [==========================>...] - ETA: 0s - loss: 0.1976 - t-pos: 0.0000e+00 - f-pos: 0.0000e+00 - t-neg: 20438.0000 - f-neg: 762.0000 - accuracy: 0.9641 - precision: 0.0000e+00 - recall: 0.0000e+00 - roc-auc: 0.5436 - pr-auc: 0.0790WARNING:tensorflow:Layers in a Sequential model should only have a single input tensor. Received: inputs={'month': <tf.Tensor 'IteratorGetNext:2' shape=(None,) dtype=int64>, 'windSpdKts': <tf.Tensor 'IteratorGetNext:6' shape=(None,) dtype=float32>, 'gustKts': <tf.Tensor 'IteratorGetNext:0' shape=(None,) dtype=float32>, 'windVrbDeg': <tf.Tensor 'IteratorGetNext:7' shape=(None,) dtype=float32>, 'intensity': <tf.Tensor 'IteratorGetNext:1' shape=(None,) dtype=float32>, 'rain': <tf.Tensor 'IteratorGetNext:4' shape=(None,) dtype=int64>, 'visibilityMtrs': <tf.Tensor 'IteratorGetNext:5' shape=(None,) dtype=int64>, 'qnh': <tf.Tensor 'IteratorGetNext:3' shape=(None,) dtype=float32>}. Consider rewriting this model with the Functional API.\n",
      "228/228 [==============================] - 2s 5ms/step - loss: 0.1945 - t-pos: 0.0000e+00 - f-pos: 0.0000e+00 - t-neg: 21912.0000 - f-neg: 812.0000 - accuracy: 0.9643 - precision: 0.0000e+00 - recall: 0.0000e+00 - roc-auc: 0.5473 - pr-auc: 0.0727 - val_loss: 0.1533 - val_t-pos: 0.0000e+00 - val_f-pos: 0.0000e+00 - val_t-neg: 9394.0000 - val_f-neg: 345.0000 - val_accuracy: 0.9646 - val_precision: 0.0000e+00 - val_recall: 0.0000e+00 - val_roc-auc: 0.7591 - val_pr-auc: 0.1873\n",
      "Epoch 2/20\n",
      "228/228 [==============================] - 0s 2ms/step - loss: 0.1484 - t-pos: 0.0000e+00 - f-pos: 0.0000e+00 - t-neg: 21912.0000 - f-neg: 812.0000 - accuracy: 0.9643 - precision: 0.0000e+00 - recall: 0.0000e+00 - roc-auc: 0.7576 - pr-auc: 0.2108 - val_loss: 0.1417 - val_t-pos: 0.0000e+00 - val_f-pos: 0.0000e+00 - val_t-neg: 9394.0000 - val_f-neg: 345.0000 - val_accuracy: 0.9647 - val_precision: 1.0000 - val_recall: 0.0029 - val_roc-auc: 0.7745 - val_pr-auc: 0.2520\n",
      "Epoch 3/20\n",
      "228/228 [==============================] - 0s 2ms/step - loss: 0.1399 - t-pos: 10.0000 - f-pos: 0.0000e+00 - t-neg: 21912.0000 - f-neg: 802.0000 - accuracy: 0.9650 - precision: 1.0000 - recall: 0.0197 - roc-auc: 0.7777 - pr-auc: 0.2840 - val_loss: 0.1386 - val_t-pos: 2.0000 - val_f-pos: 0.0000e+00 - val_t-neg: 9394.0000 - val_f-neg: 343.0000 - val_accuracy: 0.9650 - val_precision: 1.0000 - val_recall: 0.0116 - val_roc-auc: 0.8061 - val_pr-auc: 0.3145\n",
      "Epoch 4/20\n",
      "228/228 [==============================] - 0s 2ms/step - loss: 0.1345 - t-pos: 34.0000 - f-pos: 3.0000 - t-neg: 21909.0000 - f-neg: 778.0000 - accuracy: 0.9659 - precision: 0.9091 - recall: 0.0493 - roc-auc: 0.8029 - pr-auc: 0.3296 - val_loss: 0.1312 - val_t-pos: 20.0000 - val_f-pos: 4.0000 - val_t-neg: 9390.0000 - val_f-neg: 325.0000 - val_accuracy: 0.9667 - val_precision: 0.8387 - val_recall: 0.0754 - val_roc-auc: 0.8262 - val_pr-auc: 0.3352\n",
      "Epoch 5/20\n",
      "228/228 [==============================] - 0s 2ms/step - loss: 0.1295 - t-pos: 54.0000 - f-pos: 6.0000 - t-neg: 21906.0000 - f-neg: 758.0000 - accuracy: 0.9667 - precision: 0.8500 - recall: 0.0837 - roc-auc: 0.8308 - pr-auc: 0.3636 - val_loss: 0.1280 - val_t-pos: 33.0000 - val_f-pos: 8.0000 - val_t-neg: 9386.0000 - val_f-neg: 312.0000 - val_accuracy: 0.9675 - val_precision: 0.7800 - val_recall: 0.1130 - val_roc-auc: 0.8419 - val_pr-auc: 0.3609\n",
      "Epoch 6/20\n",
      "228/228 [==============================] - 0s 2ms/step - loss: 0.1258 - t-pos: 71.0000 - f-pos: 12.0000 - t-neg: 21900.0000 - f-neg: 741.0000 - accuracy: 0.9674 - precision: 0.8257 - recall: 0.1108 - roc-auc: 0.8559 - pr-auc: 0.3896 - val_loss: 0.1249 - val_t-pos: 39.0000 - val_f-pos: 11.0000 - val_t-neg: 9383.0000 - val_f-neg: 306.0000 - val_accuracy: 0.9677 - val_precision: 0.7344 - val_recall: 0.1362 - val_roc-auc: 0.8606 - val_pr-auc: 0.3764\n",
      "Epoch 7/20\n",
      "228/228 [==============================] - 0s 2ms/step - loss: 0.1227 - t-pos: 96.0000 - f-pos: 22.0000 - t-neg: 21890.0000 - f-neg: 716.0000 - accuracy: 0.9676 - precision: 0.7622 - recall: 0.1342 - roc-auc: 0.8726 - pr-auc: 0.4071 - val_loss: 0.1242 - val_t-pos: 56.0000 - val_f-pos: 20.0000 - val_t-neg: 9374.0000 - val_f-neg: 289.0000 - val_accuracy: 0.9684 - val_precision: 0.6989 - val_recall: 0.1884 - val_roc-auc: 0.8689 - val_pr-auc: 0.3989\n",
      "Epoch 8/20\n",
      "228/228 [==============================] - 0s 2ms/step - loss: 0.1206 - t-pos: 107.0000 - f-pos: 31.0000 - t-neg: 21881.0000 - f-neg: 705.0000 - accuracy: 0.9680 - precision: 0.7515 - recall: 0.1564 - roc-auc: 0.8821 - pr-auc: 0.4245 - val_loss: 0.1213 - val_t-pos: 38.0000 - val_f-pos: 10.0000 - val_t-neg: 9384.0000 - val_f-neg: 307.0000 - val_accuracy: 0.9681 - val_precision: 0.7931 - val_recall: 0.1333 - val_roc-auc: 0.8763 - val_pr-auc: 0.4207\n",
      "Epoch 9/20\n",
      "228/228 [==============================] - 0s 2ms/step - loss: 0.1186 - t-pos: 118.0000 - f-pos: 26.0000 - t-neg: 21886.0000 - f-neg: 694.0000 - accuracy: 0.9689 - precision: 0.7760 - recall: 0.1835 - roc-auc: 0.8918 - pr-auc: 0.4410 - val_loss: 0.1215 - val_t-pos: 37.0000 - val_f-pos: 10.0000 - val_t-neg: 9384.0000 - val_f-neg: 308.0000 - val_accuracy: 0.9681 - val_precision: 0.8148 - val_recall: 0.1275 - val_roc-auc: 0.8795 - val_pr-auc: 0.4346\n",
      "Epoch 10/20\n",
      "228/228 [==============================] - 0s 2ms/step - loss: 0.1173 - t-pos: 137.0000 - f-pos: 29.0000 - t-neg: 21883.0000 - f-neg: 675.0000 - accuracy: 0.9690 - precision: 0.7512 - recall: 0.1970 - roc-auc: 0.8971 - pr-auc: 0.4489 - val_loss: 0.1195 - val_t-pos: 43.0000 - val_f-pos: 10.0000 - val_t-neg: 9384.0000 - val_f-neg: 302.0000 - val_accuracy: 0.9687 - val_precision: 0.8333 - val_recall: 0.1449 - val_roc-auc: 0.8789 - val_pr-auc: 0.4424\n",
      "Epoch 11/20\n",
      "228/228 [==============================] - 0s 2ms/step - loss: 0.1161 - t-pos: 144.0000 - f-pos: 35.0000 - t-neg: 21877.0000 - f-neg: 668.0000 - accuracy: 0.9694 - precision: 0.7544 - recall: 0.2118 - roc-auc: 0.8987 - pr-auc: 0.4609 - val_loss: 0.1177 - val_t-pos: 51.0000 - val_f-pos: 11.0000 - val_t-neg: 9383.0000 - val_f-neg: 294.0000 - val_accuracy: 0.9693 - val_precision: 0.7949 - val_recall: 0.1797 - val_roc-auc: 0.8863 - val_pr-auc: 0.4539\n",
      "Epoch 12/20\n",
      "228/228 [==============================] - 0s 2ms/step - loss: 0.1149 - t-pos: 157.0000 - f-pos: 37.0000 - t-neg: 21875.0000 - f-neg: 655.0000 - accuracy: 0.9697 - precision: 0.7520 - recall: 0.2278 - roc-auc: 0.9021 - pr-auc: 0.4700 - val_loss: 0.1175 - val_t-pos: 77.0000 - val_f-pos: 22.0000 - val_t-neg: 9372.0000 - val_f-neg: 268.0000 - val_accuracy: 0.9704 - val_precision: 0.7478 - val_recall: 0.2493 - val_roc-auc: 0.8870 - val_pr-auc: 0.4565\n",
      "Epoch 13/20\n"
     ]
    },
    {
     "name": "stdout",
     "output_type": "stream",
     "text": [
      "228/228 [==============================] - 0s 2ms/step - loss: 0.1145 - t-pos: 165.0000 - f-pos: 44.0000 - t-neg: 21868.0000 - f-neg: 647.0000 - accuracy: 0.9699 - precision: 0.7602 - recall: 0.2303 - roc-auc: 0.9019 - pr-auc: 0.4727 - val_loss: 0.1165 - val_t-pos: 62.0000 - val_f-pos: 11.0000 - val_t-neg: 9383.0000 - val_f-neg: 283.0000 - val_accuracy: 0.9701 - val_precision: 0.8214 - val_recall: 0.2000 - val_roc-auc: 0.8865 - val_pr-auc: 0.4663\n",
      "Epoch 14/20\n",
      "228/228 [==============================] - 0s 2ms/step - loss: 0.1140 - t-pos: 169.0000 - f-pos: 38.0000 - t-neg: 21874.0000 - f-neg: 643.0000 - accuracy: 0.9703 - precision: 0.7810 - recall: 0.2328 - roc-auc: 0.9046 - pr-auc: 0.4811 - val_loss: 0.1195 - val_t-pos: 48.0000 - val_f-pos: 9.0000 - val_t-neg: 9385.0000 - val_f-neg: 297.0000 - val_accuracy: 0.9687 - val_precision: 0.8226 - val_recall: 0.1478 - val_roc-auc: 0.8782 - val_pr-auc: 0.4673\n",
      "Epoch 15/20\n",
      "228/228 [==============================] - 0s 2ms/step - loss: 0.1139 - t-pos: 177.0000 - f-pos: 49.0000 - t-neg: 21863.0000 - f-neg: 635.0000 - accuracy: 0.9706 - precision: 0.7658 - recall: 0.2537 - roc-auc: 0.9031 - pr-auc: 0.4779 - val_loss: 0.1160 - val_t-pos: 60.0000 - val_f-pos: 12.0000 - val_t-neg: 9382.0000 - val_f-neg: 285.0000 - val_accuracy: 0.9704 - val_precision: 0.8353 - val_recall: 0.2058 - val_roc-auc: 0.8835 - val_pr-auc: 0.4755\n",
      "Epoch 16/20\n",
      "228/228 [==============================] - 0s 2ms/step - loss: 0.1133 - t-pos: 179.0000 - f-pos: 51.0000 - t-neg: 21861.0000 - f-neg: 633.0000 - accuracy: 0.9712 - precision: 0.7855 - recall: 0.2660 - roc-auc: 0.9034 - pr-auc: 0.4870 - val_loss: 0.1157 - val_t-pos: 73.0000 - val_f-pos: 13.0000 - val_t-neg: 9381.0000 - val_f-neg: 272.0000 - val_accuracy: 0.9709 - val_precision: 0.7818 - val_recall: 0.2493 - val_roc-auc: 0.8890 - val_pr-auc: 0.4740\n",
      "Epoch 17/20\n",
      "228/228 [==============================] - 0s 2ms/step - loss: 0.1133 - t-pos: 182.0000 - f-pos: 54.0000 - t-neg: 21858.0000 - f-neg: 630.0000 - accuracy: 0.9700 - precision: 0.7399 - recall: 0.2488 - roc-auc: 0.9038 - pr-auc: 0.4782 - val_loss: 0.1160 - val_t-pos: 59.0000 - val_f-pos: 11.0000 - val_t-neg: 9383.0000 - val_f-neg: 286.0000 - val_accuracy: 0.9705 - val_precision: 0.8537 - val_recall: 0.2029 - val_roc-auc: 0.8837 - val_pr-auc: 0.4782\n",
      "Epoch 18/20\n",
      "228/228 [==============================] - 0s 2ms/step - loss: 0.1129 - t-pos: 191.0000 - f-pos: 52.0000 - t-neg: 21860.0000 - f-neg: 621.0000 - accuracy: 0.9707 - precision: 0.7552 - recall: 0.2660 - roc-auc: 0.9020 - pr-auc: 0.4853 - val_loss: 0.1164 - val_t-pos: 64.0000 - val_f-pos: 13.0000 - val_t-neg: 9381.0000 - val_f-neg: 281.0000 - val_accuracy: 0.9706 - val_precision: 0.8315 - val_recall: 0.2145 - val_roc-auc: 0.8803 - val_pr-auc: 0.4708\n",
      "Epoch 19/20\n",
      "228/228 [==============================] - 0s 2ms/step - loss: 0.1125 - t-pos: 191.0000 - f-pos: 52.0000 - t-neg: 21860.0000 - f-neg: 621.0000 - accuracy: 0.9710 - precision: 0.7734 - recall: 0.2648 - roc-auc: 0.9049 - pr-auc: 0.4859 - val_loss: 0.1154 - val_t-pos: 84.0000 - val_f-pos: 21.0000 - val_t-neg: 9373.0000 - val_f-neg: 261.0000 - val_accuracy: 0.9717 - val_precision: 0.7760 - val_recall: 0.2812 - val_roc-auc: 0.8879 - val_pr-auc: 0.4732\n",
      "Epoch 20/20\n",
      "228/228 [==============================] - 0s 2ms/step - loss: 0.1126 - t-pos: 192.0000 - f-pos: 62.0000 - t-neg: 21850.0000 - f-neg: 620.0000 - accuracy: 0.9703 - precision: 0.7255 - recall: 0.2734 - roc-auc: 0.9054 - pr-auc: 0.4818 - val_loss: 0.1170 - val_t-pos: 52.0000 - val_f-pos: 10.0000 - val_t-neg: 9384.0000 - val_f-neg: 293.0000 - val_accuracy: 0.9698 - val_precision: 0.8493 - val_recall: 0.1797 - val_roc-auc: 0.8782 - val_pr-auc: 0.4769\n",
      "139/139 [==============================] - 0s 1ms/step - loss: 0.1094 - t-pos: 73.0000 - f-pos: 13.0000 - t-neg: 13405.0000 - f-neg: 376.0000 - accuracy: 0.9725 - precision: 0.8333 - recall: 0.1893 - roc-auc: 0.8856 - pr-auc: 0.4613\n"
     ]
    },
    {
     "data": {
      "text/plain": [
       "[0.10940851271152496,\n",
       " 73.0,\n",
       " 13.0,\n",
       " 13405.0,\n",
       " 376.0,\n",
       " 0.9725247025489807,\n",
       " 0.8333333134651184,\n",
       " 0.18930958211421967,\n",
       " 0.8855872750282288,\n",
       " 0.46133092045783997]"
      ]
     },
     "execution_count": 28,
     "metadata": {},
     "output_type": "execute_result"
    },
    {
     "data": {
      "image/png": "[encoded data removed]",
      "text/plain": [
       "<Figure size 432x288 with 1 Axes>"
      ]
     },
     "metadata": {
      "needs_background": "light"
     },
     "output_type": "display_data"
    },
    {
     "data": {
      "image/png": "[encoded data removed]",
      "text/plain": [
       "<Figure size 432x288 with 1 Axes>"
      ]
     },
     "metadata": {
      "needs_background": "light"
     },
     "output_type": "display_data"
    }
   ],
   "source": [
    "learning_rate = 0.0005\n",
    "epochs = 20\n",
    "batch_size = 100\n",
    "label_name = \"ws\"\n",
    "classification_threshold = 0.45\n",
    "validation_split = 0.3\n",
    "initial_bias = get_initial_bias(train_df_norm)\n",
    "\n",
    "# Establish the metrics the model will measure.\n",
    "METRICS = [\n",
    "    tf.keras.metrics.TruePositives(name='t-pos'),\n",
    "    tf.keras.metrics.FalsePositives(name='f-pos'),\n",
    "    tf.keras.metrics.TrueNegatives(name='t-neg'),\n",
    "    tf.keras.metrics.FalseNegatives(name='f-neg'), \n",
    "    tf.keras.metrics.BinaryAccuracy(name='accuracy', threshold=classification_threshold),\n",
    "    tf.keras.metrics.Precision(thresholds=classification_threshold,name='precision'),\n",
    "    tf.keras.metrics.Recall(thresholds=classification_threshold,name='recall'),\n",
    "    tf.keras.metrics.AUC(num_thresholds=100, name='roc-auc'),\n",
    "    tf.keras.metrics.AUC(num_thresholds=100, name='pr-auc', curve='PR')\n",
    "]\n",
    "\n",
    "# Establish the model's topography.\n",
    "my_model = neural_model(learning_rate, feature_layer, METRICS, initial_bias=initial_bias)\n",
    "\n",
    "# Train the model on the training set.\n",
    "epochs, hist = train_model(my_model, train_df_norm, epochs, \n",
    "                           label_name, batch_size, validation_split=validation_split)\n",
    "\n",
    "# Plot a graph of the metric(s) vs. epochs.\n",
    "list_of_metrics_to_plot_1 = ['loss', 'val_loss']\n",
    "list_of_metrics_to_plot_2 = ['loss', 'accuracy', 'precision', 'recall', 'roc-auc', 'pr-auc']\n",
    "\n",
    "plot_curve(epochs, hist, list_of_metrics_to_plot_1)\n",
    "plot_curve(epochs, hist, list_of_metrics_to_plot_2)\n",
    "\n",
    "x_test = {name: np.array(value) for name, value in test_df_norm.items()}\n",
    "y_test = np.array(x_test.pop(label_name))\n",
    "\n",
    "my_model.evaluate(x_test, y_test, batch_size=batch_size)"
   ]
  }
 ],
 "metadata": {
  "kernelspec": {
   "display_name": "Python 3 (ipykernel)",
   "language": "python",
   "name": "python3"
  },
  "language_info": {
   "codemirror_mode": {
    "name": "ipython",
    "version": 3
   },
   "file_extension": ".py",
   "mimetype": "text/x-python",
   "name": "python",
   "nbconvert_exporter": "python",
   "pygments_lexer": "ipython3",
   "version": "3.10.0"
  }
 },
 "nbformat": 4,
 "nbformat_minor": 5
}
